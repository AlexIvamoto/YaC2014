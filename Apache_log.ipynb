{
 "metadata": {
  "name": "",
  "signature": "sha256:610732dc1e852e8a3de867ed5cce678e2bbc3c9fb63edbef50d4e708ebaa22e8"
 },
 "nbformat": 3,
 "nbformat_minor": 0,
 "worksheets": [
  {
   "cells": [
    {
     "cell_type": "code",
     "collapsed": false,
     "input": [
      "pd.__version__"
     ],
     "language": "python",
     "metadata": {},
     "outputs": [
      {
       "metadata": {},
       "output_type": "pyout",
       "prompt_number": 29,
       "text": [
        "'0.14.1'"
       ]
      }
     ],
     "prompt_number": 29
    },
    {
     "cell_type": "code",
     "collapsed": false,
     "input": [
      "sns.__version__"
     ],
     "language": "python",
     "metadata": {},
     "outputs": [
      {
       "metadata": {},
       "output_type": "pyout",
       "prompt_number": 30,
       "text": [
        "'0.3.1'"
       ]
      }
     ],
     "prompt_number": 30
    },
    {
     "cell_type": "code",
     "collapsed": false,
     "input": [
      "import matplotlib"
     ],
     "language": "python",
     "metadata": {},
     "outputs": [],
     "prompt_number": 31
    },
    {
     "cell_type": "code",
     "collapsed": false,
     "input": [
      "matplotlib.__version__"
     ],
     "language": "python",
     "metadata": {},
     "outputs": [
      {
       "metadata": {},
       "output_type": "pyout",
       "prompt_number": 32,
       "text": [
        "'1.3.1'"
       ]
      }
     ],
     "prompt_number": 32
    },
    {
     "cell_type": "code",
     "collapsed": false,
     "input": [],
     "language": "python",
     "metadata": {},
     "outputs": []
    },
    {
     "cell_type": "code",
     "collapsed": false,
     "input": [
      "%pylab inline"
     ],
     "language": "python",
     "metadata": {},
     "outputs": [
      {
       "output_type": "stream",
       "stream": "stdout",
       "text": [
        "Populating the interactive namespace from numpy and matplotlib\n"
       ]
      }
     ],
     "prompt_number": 1
    },
    {
     "cell_type": "markdown",
     "metadata": {},
     "source": [
      "Apache log analysis with Pandas\n",
      "========="
     ]
    },
    {
     "cell_type": "markdown",
     "metadata": {},
     "source": [
      "    Nikolay Koldunov\n",
      "    koldunovn@gmail.com\n",
      "[koldunov.net](http://koldunov.net)"
     ]
    },
    {
     "cell_type": "markdown",
     "metadata": {},
     "source": [
      "In this notebook, I am going to show simple example of an Apache access log analysis with pandas. It's my first experience with pandas, and I am sure there are better and more efficient ways to do some of the things shown here. So comments, suggestions and corrections of my broken English are very welcome. You can send me an email, or create a PR for [this notebook at github](https://github.com/koldunovn/nk_public_notebooks). "
     ]
    },
    {
     "cell_type": "heading",
     "level": 3,
     "metadata": {},
     "source": [
      "Load and parse the data"
     ]
    },
    {
     "cell_type": "markdown",
     "metadata": {},
     "source": [
      "We will need [apachelog module](http://code.google.com/p/apachelog/), for parsing the log. We also have to know the format of the log that is set in the Apache config. In my case I have no access to the Apache config, but the [hoster provide description of the format](http://help.sweb.ru/entry/2484/) on his help page. Below is the format itself and a short description of every element:\n",
      "    \n",
      "    format = r'%V %h  %l %u %t \\\"%r\\\" %>s %b \\\"%i\\\" \\\"%{User-Agent}i\\\" %T'\n",
      "    \n",
      "Here (copied mostly from [this SO post](http://stackoverflow.com/questions/9234699/understanding-apache-access-log)):\n",
      "    \n",
      "    %V          - the server name according to the UseCanonicalName setting\n",
      "    %h          - remote host (ie the client IP)\n",
      "    %l          - identity of the user determined by identd (not usually used since not reliable)\n",
      "    %u          - user name determined by HTTP authentication\n",
      "    %t          - time the server finished processing the request.\n",
      "    %r          - request line from the client. (\"GET / HTTP/1.0\")\n",
      "    %>s         - status code sent from the server to the client (200, 404 etc.)\n",
      "    %b          - size of the response to the client (in bytes)\n",
      "    \\\"%i\\\"      - Referer is the page that linked to this URL.\n",
      "    User-agent  - the browser identification string\n",
      "    %T          - Apache request time  \n",
      "    "
     ]
    },
    {
     "cell_type": "code",
     "collapsed": false,
     "input": [
      "import apachelog"
     ],
     "language": "python",
     "metadata": {},
     "outputs": [],
     "prompt_number": 2
    },
    {
     "cell_type": "markdown",
     "metadata": {},
     "source": [
      "Set the format:"
     ]
    },
    {
     "cell_type": "code",
     "collapsed": false,
     "input": [
      "fformat = r'%V %h %l %u %t \\\"%r\\\" %>s %b \\\"%i\\\" \\\"%{User-Agent}i\\\" %T'"
     ],
     "language": "python",
     "metadata": {},
     "outputs": [],
     "prompt_number": 3
    },
    {
     "cell_type": "markdown",
     "metadata": {},
     "source": [
      "Create the parcer:"
     ]
    },
    {
     "cell_type": "code",
     "collapsed": false,
     "input": [
      "p = apachelog.parser(fformat)"
     ],
     "language": "python",
     "metadata": {},
     "outputs": [],
     "prompt_number": 4
    },
    {
     "cell_type": "code",
     "collapsed": false,
     "input": [
      "test_string = \\\n",
      "'koldunov.net 85.26.235.202 - - [16/Mar/2013:00:19:43 +0400] \"GET /?p=364 HTTP/1.0\" 200 65237 \\\n",
      "\"http://koldunov.net/?p=364\" \"Mozilla/5.0 (Windows NT 5.1) \\\n",
      "AppleWebKit/537.11 (KHTML, like Gecko) Chrome/23.0.1271.64 Safari/537.11\" 0'"
     ],
     "language": "python",
     "metadata": {},
     "outputs": [],
     "prompt_number": 5
    },
    {
     "cell_type": "code",
     "collapsed": false,
     "input": [
      "data = p.parse(test_string)"
     ],
     "language": "python",
     "metadata": {},
     "outputs": [],
     "prompt_number": 6
    },
    {
     "cell_type": "code",
     "collapsed": false,
     "input": [
      "data"
     ],
     "language": "python",
     "metadata": {},
     "outputs": [
      {
       "metadata": {},
       "output_type": "pyout",
       "prompt_number": 7,
       "text": [
        "{'%>s': '200',\n",
        " '%T': '0',\n",
        " '%V': 'koldunov.net',\n",
        " '%b': '65237',\n",
        " '%h': '85.26.235.202',\n",
        " '%i': 'http://koldunov.net/?p=364',\n",
        " '%l': '-',\n",
        " '%r': 'GET /?p=364 HTTP/1.0',\n",
        " '%t': '[16/Mar/2013:00:19:43 +0400]',\n",
        " '%u': '-',\n",
        " '%{User-Agent}i': 'Mozilla/5.0 (Windows NT 5.1) AppleWebKit/537.11 (KHTML, like Gecko) Chrome/23.0.1271.64 Safari/537.11'}"
       ]
      }
     ],
     "prompt_number": 7
    },
    {
     "cell_type": "markdown",
     "metadata": {},
     "source": [
      "Looks like the parser works. Now to load some real world data (sample file located [here](http://dl.dropbox.com/u/107639/notebooks/access_log_for_pandas) and [here](https://github.com/koldunovn/nk_public_notebooks/raw/master/access_log_for_pandas)):"
     ]
    },
    {
     "cell_type": "code",
     "collapsed": false,
     "input": [
      "log = open('access_log_for_pandas').readlines()"
     ],
     "language": "python",
     "metadata": {},
     "outputs": [],
     "prompt_number": 8
    },
    {
     "cell_type": "markdown",
     "metadata": {},
     "source": [
      "Parse every line of it and create a list of dictionaries:"
     ]
    },
    {
     "cell_type": "code",
     "collapsed": false,
     "input": [
      "log_list = []\n",
      "for line in log:\n",
      "       try:\n",
      "          data = p.parse(line)\n",
      "       except:\n",
      "          sys.stderr.write(\"Unable to parse %s\" % line)\n",
      "       data['%t'] = data['%t'][1:12]+' '+data['%t'][13:21]\n",
      "      \n",
      "       log_list.append(data)\n"
     ],
     "language": "python",
     "metadata": {},
     "outputs": [],
     "prompt_number": 9
    },
    {
     "cell_type": "code",
     "collapsed": false,
     "input": [
      "data['%t'][1:12]+' '+data['%t'][13:21]"
     ],
     "language": "python",
     "metadata": {},
     "outputs": [
      {
       "metadata": {},
       "output_type": "pyout",
       "prompt_number": 10,
       "text": [
        "'7/Mar/2013  0:19:30'"
       ]
      }
     ],
     "prompt_number": 10
    },
    {
     "cell_type": "markdown",
     "metadata": {},
     "source": [
      "We had to tweak the time format a bit, since otherwise pandas will not be able to parse it."
     ]
    },
    {
     "cell_type": "heading",
     "level": 3,
     "metadata": {},
     "source": [
      "Create and tune Data Frame"
     ]
    },
    {
     "cell_type": "markdown",
     "metadata": {},
     "source": [
      "This will create a list of dictionaries, that can be transformed in to a Data Frame:"
     ]
    },
    {
     "cell_type": "code",
     "collapsed": false,
     "input": [
      "import pandas as pd\n",
      "#import numpy as np\n",
      "\n",
      "import seaborn as sns\n",
      "sns.set_context('poster',rc = {\"figure.figsize\": [10,5.5]})"
     ],
     "language": "python",
     "metadata": {},
     "outputs": [],
     "prompt_number": 11
    },
    {
     "cell_type": "code",
     "collapsed": false,
     "input": [
      "df = pd.DataFrame(log_list)"
     ],
     "language": "python",
     "metadata": {},
     "outputs": [],
     "prompt_number": 12
    },
    {
     "cell_type": "markdown",
     "metadata": {},
     "source": [
      "Show the first two lines of the Data Frame:"
     ]
    },
    {
     "cell_type": "code",
     "collapsed": false,
     "input": [
      "df[0:2]"
     ],
     "language": "python",
     "metadata": {},
     "outputs": [
      {
       "html": [
        "<div style=\"max-height:1000px;max-width:1500px;overflow:auto;\">\n",
        "<table border=\"1\" class=\"dataframe\">\n",
        "  <thead>\n",
        "    <tr style=\"text-align: right;\">\n",
        "      <th></th>\n",
        "      <th>%&gt;s</th>\n",
        "      <th>%T</th>\n",
        "      <th>%V</th>\n",
        "      <th>%b</th>\n",
        "      <th>%h</th>\n",
        "      <th>%i</th>\n",
        "      <th>%l</th>\n",
        "      <th>%r</th>\n",
        "      <th>%t</th>\n",
        "      <th>%u</th>\n",
        "      <th>%{User-Agent}i</th>\n",
        "    </tr>\n",
        "  </thead>\n",
        "  <tbody>\n",
        "    <tr>\n",
        "      <th>0</th>\n",
        "      <td> 200</td>\n",
        "      <td> 0</td>\n",
        "      <td> www.oceanographers.ru</td>\n",
        "      <td> 26126</td>\n",
        "      <td> 109.165.31.156</td>\n",
        "      <td>                                                 -</td>\n",
        "      <td> -</td>\n",
        "      <td> GET /index.php?option=com_content&amp;task=section...</td>\n",
        "      <td> 16/Mar/2013 08:00:25</td>\n",
        "      <td> -</td>\n",
        "      <td> Mozilla/5.0 (Windows NT 6.1; rv:19.0) Gecko/20...</td>\n",
        "    </tr>\n",
        "    <tr>\n",
        "      <th>1</th>\n",
        "      <td> 200</td>\n",
        "      <td> 0</td>\n",
        "      <td> www.oceanographers.ru</td>\n",
        "      <td> 10532</td>\n",
        "      <td> 109.165.31.156</td>\n",
        "      <td> http://www.oceanographers.ru/index.php?option=...</td>\n",
        "      <td> -</td>\n",
        "      <td> GET /templates/ja_procyon/css/template_css.css...</td>\n",
        "      <td> 16/Mar/2013 08:00:25</td>\n",
        "      <td> -</td>\n",
        "      <td> Mozilla/5.0 (Windows NT 6.1; rv:19.0) Gecko/20...</td>\n",
        "    </tr>\n",
        "  </tbody>\n",
        "</table>\n",
        "</div>"
       ],
       "metadata": {},
       "output_type": "pyout",
       "prompt_number": 13,
       "text": [
        "   %>s %T                     %V     %b              %h  \\\n",
        "0  200  0  www.oceanographers.ru  26126  109.165.31.156   \n",
        "1  200  0  www.oceanographers.ru  10532  109.165.31.156   \n",
        "\n",
        "                                                  %i %l  \\\n",
        "0                                                  -  -   \n",
        "1  http://www.oceanographers.ru/index.php?option=...  -   \n",
        "\n",
        "                                                  %r                    %t %u  \\\n",
        "0  GET /index.php?option=com_content&task=section...  16/Mar/2013 08:00:25  -   \n",
        "1  GET /templates/ja_procyon/css/template_css.css...  16/Mar/2013 08:00:25  -   \n",
        "\n",
        "                                      %{User-Agent}i  \n",
        "0  Mozilla/5.0 (Windows NT 6.1; rv:19.0) Gecko/20...  \n",
        "1  Mozilla/5.0 (Windows NT 6.1; rv:19.0) Gecko/20...  "
       ]
      }
     ],
     "prompt_number": 13
    },
    {
     "cell_type": "markdown",
     "metadata": {},
     "source": [
      "We are not going to use all the data, so let's delete some of the columns:"
     ]
    },
    {
     "cell_type": "code",
     "collapsed": false,
     "input": [
      "del df['%T']; del df['%V']; del df['%i']; del df['%l']; del df['%u']; del df['%{User-Agent}i']"
     ],
     "language": "python",
     "metadata": {},
     "outputs": [],
     "prompt_number": 14
    },
    {
     "cell_type": "code",
     "collapsed": false,
     "input": [
      "df.head()"
     ],
     "language": "python",
     "metadata": {},
     "outputs": [
      {
       "html": [
        "<div style=\"max-height:1000px;max-width:1500px;overflow:auto;\">\n",
        "<table border=\"1\" class=\"dataframe\">\n",
        "  <thead>\n",
        "    <tr style=\"text-align: right;\">\n",
        "      <th></th>\n",
        "      <th>%&gt;s</th>\n",
        "      <th>%b</th>\n",
        "      <th>%h</th>\n",
        "      <th>%r</th>\n",
        "      <th>%t</th>\n",
        "    </tr>\n",
        "  </thead>\n",
        "  <tbody>\n",
        "    <tr>\n",
        "      <th>0</th>\n",
        "      <td> 200</td>\n",
        "      <td> 26126</td>\n",
        "      <td> 109.165.31.156</td>\n",
        "      <td> GET /index.php?option=com_content&amp;task=section...</td>\n",
        "      <td> 16/Mar/2013 08:00:25</td>\n",
        "    </tr>\n",
        "    <tr>\n",
        "      <th>1</th>\n",
        "      <td> 200</td>\n",
        "      <td> 10532</td>\n",
        "      <td> 109.165.31.156</td>\n",
        "      <td> GET /templates/ja_procyon/css/template_css.css...</td>\n",
        "      <td> 16/Mar/2013 08:00:25</td>\n",
        "    </tr>\n",
        "    <tr>\n",
        "      <th>2</th>\n",
        "      <td> 200</td>\n",
        "      <td>  1853</td>\n",
        "      <td> 109.165.31.156</td>\n",
        "      <td>    GET /templates/ja_procyon/switcher.js HTTP/1.0</td>\n",
        "      <td> 16/Mar/2013 08:00:25</td>\n",
        "    </tr>\n",
        "    <tr>\n",
        "      <th>3</th>\n",
        "      <td> 200</td>\n",
        "      <td> 37153</td>\n",
        "      <td> 109.165.31.156</td>\n",
        "      <td>         GET /includes/js/overlib_mini.js HTTP/1.0</td>\n",
        "      <td> 16/Mar/2013 08:00:25</td>\n",
        "    </tr>\n",
        "    <tr>\n",
        "      <th>4</th>\n",
        "      <td> 200</td>\n",
        "      <td>  3978</td>\n",
        "      <td> 109.165.31.156</td>\n",
        "      <td> GET /modules/ja_transmenu/transmenuh.css HTTP/1.0</td>\n",
        "      <td> 16/Mar/2013 08:00:25</td>\n",
        "    </tr>\n",
        "  </tbody>\n",
        "</table>\n",
        "</div>"
       ],
       "metadata": {},
       "output_type": "pyout",
       "prompt_number": 15,
       "text": [
        "   %>s     %b              %h  \\\n",
        "0  200  26126  109.165.31.156   \n",
        "1  200  10532  109.165.31.156   \n",
        "2  200   1853  109.165.31.156   \n",
        "3  200  37153  109.165.31.156   \n",
        "4  200   3978  109.165.31.156   \n",
        "\n",
        "                                                  %r                    %t  \n",
        "0  GET /index.php?option=com_content&task=section...  16/Mar/2013 08:00:25  \n",
        "1  GET /templates/ja_procyon/css/template_css.css...  16/Mar/2013 08:00:25  \n",
        "2     GET /templates/ja_procyon/switcher.js HTTP/1.0  16/Mar/2013 08:00:25  \n",
        "3          GET /includes/js/overlib_mini.js HTTP/1.0  16/Mar/2013 08:00:25  \n",
        "4  GET /modules/ja_transmenu/transmenuh.css HTTP/1.0  16/Mar/2013 08:00:25  "
       ]
      }
     ],
     "prompt_number": 15
    },
    {
     "cell_type": "markdown",
     "metadata": {},
     "source": [
      "and rename columns to something that humans can understand:"
     ]
    },
    {
     "cell_type": "code",
     "collapsed": false,
     "input": [
      "df = df.rename(columns={'%>s': 'Status', '%b':'Size', \n",
      "                        '%h':'IP', '%r':'Request', '%t': 'Time'})"
     ],
     "language": "python",
     "metadata": {},
     "outputs": [],
     "prompt_number": 16
    },
    {
     "cell_type": "markdown",
     "metadata": {},
     "source": [
      "First five rows of resulting Data Frame:"
     ]
    },
    {
     "cell_type": "code",
     "collapsed": false,
     "input": [
      "df.head()"
     ],
     "language": "python",
     "metadata": {},
     "outputs": [
      {
       "html": [
        "<div style=\"max-height:1000px;max-width:1500px;overflow:auto;\">\n",
        "<table border=\"1\" class=\"dataframe\">\n",
        "  <thead>\n",
        "    <tr style=\"text-align: right;\">\n",
        "      <th></th>\n",
        "      <th>Status</th>\n",
        "      <th>Size</th>\n",
        "      <th>IP</th>\n",
        "      <th>Request</th>\n",
        "      <th>Time</th>\n",
        "    </tr>\n",
        "  </thead>\n",
        "  <tbody>\n",
        "    <tr>\n",
        "      <th>0</th>\n",
        "      <td> 200</td>\n",
        "      <td> 26126</td>\n",
        "      <td> 109.165.31.156</td>\n",
        "      <td> GET /index.php?option=com_content&amp;task=section...</td>\n",
        "      <td> 16/Mar/2013 08:00:25</td>\n",
        "    </tr>\n",
        "    <tr>\n",
        "      <th>1</th>\n",
        "      <td> 200</td>\n",
        "      <td> 10532</td>\n",
        "      <td> 109.165.31.156</td>\n",
        "      <td> GET /templates/ja_procyon/css/template_css.css...</td>\n",
        "      <td> 16/Mar/2013 08:00:25</td>\n",
        "    </tr>\n",
        "    <tr>\n",
        "      <th>2</th>\n",
        "      <td> 200</td>\n",
        "      <td>  1853</td>\n",
        "      <td> 109.165.31.156</td>\n",
        "      <td>    GET /templates/ja_procyon/switcher.js HTTP/1.0</td>\n",
        "      <td> 16/Mar/2013 08:00:25</td>\n",
        "    </tr>\n",
        "    <tr>\n",
        "      <th>3</th>\n",
        "      <td> 200</td>\n",
        "      <td> 37153</td>\n",
        "      <td> 109.165.31.156</td>\n",
        "      <td>         GET /includes/js/overlib_mini.js HTTP/1.0</td>\n",
        "      <td> 16/Mar/2013 08:00:25</td>\n",
        "    </tr>\n",
        "    <tr>\n",
        "      <th>4</th>\n",
        "      <td> 200</td>\n",
        "      <td>  3978</td>\n",
        "      <td> 109.165.31.156</td>\n",
        "      <td> GET /modules/ja_transmenu/transmenuh.css HTTP/1.0</td>\n",
        "      <td> 16/Mar/2013 08:00:25</td>\n",
        "    </tr>\n",
        "  </tbody>\n",
        "</table>\n",
        "</div>"
       ],
       "metadata": {},
       "output_type": "pyout",
       "prompt_number": 17,
       "text": [
        "  Status   Size              IP  \\\n",
        "0    200  26126  109.165.31.156   \n",
        "1    200  10532  109.165.31.156   \n",
        "2    200   1853  109.165.31.156   \n",
        "3    200  37153  109.165.31.156   \n",
        "4    200   3978  109.165.31.156   \n",
        "\n",
        "                                             Request                  Time  \n",
        "0  GET /index.php?option=com_content&task=section...  16/Mar/2013 08:00:25  \n",
        "1  GET /templates/ja_procyon/css/template_css.css...  16/Mar/2013 08:00:25  \n",
        "2     GET /templates/ja_procyon/switcher.js HTTP/1.0  16/Mar/2013 08:00:25  \n",
        "3          GET /includes/js/overlib_mini.js HTTP/1.0  16/Mar/2013 08:00:25  \n",
        "4  GET /modules/ja_transmenu/transmenuh.css HTTP/1.0  16/Mar/2013 08:00:25  "
       ]
      }
     ],
     "prompt_number": 17
    },
    {
     "cell_type": "markdown",
     "metadata": {},
     "source": [
      "Convert Time column to datetime format and make an index out of it (*pop* will drop original *Time* column): "
     ]
    },
    {
     "cell_type": "code",
     "collapsed": false,
     "input": [
      "tfor = '%d/%b/%Y %H:%M:%S'\n",
      "df.index = pd.to_datetime(df.pop('Time'), format=tfor)"
     ],
     "language": "python",
     "metadata": {},
     "outputs": [],
     "prompt_number": 18
    },
    {
     "cell_type": "markdown",
     "metadata": {},
     "source": [
      "The *Status* variable is a string type, so we have to change it to int:"
     ]
    },
    {
     "cell_type": "code",
     "collapsed": false,
     "input": [
      "df.head()"
     ],
     "language": "python",
     "metadata": {},
     "outputs": [
      {
       "html": [
        "<div style=\"max-height:1000px;max-width:1500px;overflow:auto;\">\n",
        "<table border=\"1\" class=\"dataframe\">\n",
        "  <thead>\n",
        "    <tr style=\"text-align: right;\">\n",
        "      <th></th>\n",
        "      <th>Status</th>\n",
        "      <th>Size</th>\n",
        "      <th>IP</th>\n",
        "      <th>Request</th>\n",
        "    </tr>\n",
        "    <tr>\n",
        "      <th>Time</th>\n",
        "      <th></th>\n",
        "      <th></th>\n",
        "      <th></th>\n",
        "      <th></th>\n",
        "    </tr>\n",
        "  </thead>\n",
        "  <tbody>\n",
        "    <tr>\n",
        "      <th>2013-03-16 08:00:25</th>\n",
        "      <td> 200</td>\n",
        "      <td> 26126</td>\n",
        "      <td> 109.165.31.156</td>\n",
        "      <td> GET /index.php?option=com_content&amp;task=section...</td>\n",
        "    </tr>\n",
        "    <tr>\n",
        "      <th>2013-03-16 08:00:25</th>\n",
        "      <td> 200</td>\n",
        "      <td> 10532</td>\n",
        "      <td> 109.165.31.156</td>\n",
        "      <td> GET /templates/ja_procyon/css/template_css.css...</td>\n",
        "    </tr>\n",
        "    <tr>\n",
        "      <th>2013-03-16 08:00:25</th>\n",
        "      <td> 200</td>\n",
        "      <td>  1853</td>\n",
        "      <td> 109.165.31.156</td>\n",
        "      <td>    GET /templates/ja_procyon/switcher.js HTTP/1.0</td>\n",
        "    </tr>\n",
        "    <tr>\n",
        "      <th>2013-03-16 08:00:25</th>\n",
        "      <td> 200</td>\n",
        "      <td> 37153</td>\n",
        "      <td> 109.165.31.156</td>\n",
        "      <td>         GET /includes/js/overlib_mini.js HTTP/1.0</td>\n",
        "    </tr>\n",
        "    <tr>\n",
        "      <th>2013-03-16 08:00:25</th>\n",
        "      <td> 200</td>\n",
        "      <td>  3978</td>\n",
        "      <td> 109.165.31.156</td>\n",
        "      <td> GET /modules/ja_transmenu/transmenuh.css HTTP/1.0</td>\n",
        "    </tr>\n",
        "  </tbody>\n",
        "</table>\n",
        "</div>"
       ],
       "metadata": {},
       "output_type": "pyout",
       "prompt_number": 19,
       "text": [
        "                    Status   Size              IP  \\\n",
        "Time                                                \n",
        "2013-03-16 08:00:25    200  26126  109.165.31.156   \n",
        "2013-03-16 08:00:25    200  10532  109.165.31.156   \n",
        "2013-03-16 08:00:25    200   1853  109.165.31.156   \n",
        "2013-03-16 08:00:25    200  37153  109.165.31.156   \n",
        "2013-03-16 08:00:25    200   3978  109.165.31.156   \n",
        "\n",
        "                                                               Request  \n",
        "Time                                                                    \n",
        "2013-03-16 08:00:25  GET /index.php?option=com_content&task=section...  \n",
        "2013-03-16 08:00:25  GET /templates/ja_procyon/css/template_css.css...  \n",
        "2013-03-16 08:00:25     GET /templates/ja_procyon/switcher.js HTTP/1.0  \n",
        "2013-03-16 08:00:25          GET /includes/js/overlib_mini.js HTTP/1.0  \n",
        "2013-03-16 08:00:25  GET /modules/ja_transmenu/transmenuh.css HTTP/1.0  "
       ]
      }
     ],
     "prompt_number": 19
    },
    {
     "cell_type": "code",
     "collapsed": false,
     "input": [
      "df['Status'].dtype"
     ],
     "language": "python",
     "metadata": {},
     "outputs": [
      {
       "metadata": {},
       "output_type": "pyout",
       "prompt_number": 20,
       "text": [
        "dtype('O')"
       ]
      }
     ],
     "prompt_number": 20
    },
    {
     "cell_type": "code",
     "collapsed": false,
     "input": [
      "df['Status'] = df['Status'].astype('int')"
     ],
     "language": "python",
     "metadata": {},
     "outputs": [],
     "prompt_number": 21
    },
    {
     "cell_type": "markdown",
     "metadata": {},
     "source": [
      "Some of the rows in the *b* column contain '-' string, so we can't convert them with *astype*:"
     ]
    },
    {
     "cell_type": "code",
     "collapsed": false,
     "input": [
      "df['Size'].dtype"
     ],
     "language": "python",
     "metadata": {},
     "outputs": [
      {
       "metadata": {},
       "output_type": "pyout",
       "prompt_number": 22,
       "text": [
        "dtype('O')"
       ]
      }
     ],
     "prompt_number": 22
    },
    {
     "cell_type": "code",
     "collapsed": false,
     "input": [
      "df['Size'] = df['Size'].astype('int')"
     ],
     "language": "python",
     "metadata": {},
     "outputs": [
      {
       "ename": "ValueError",
       "evalue": "invalid literal for long() with base 10: '-'",
       "output_type": "pyerr",
       "traceback": [
        "\u001b[1;31m---------------------------------------------------------------------------\u001b[0m\n\u001b[1;31mValueError\u001b[0m                                Traceback (most recent call last)",
        "\u001b[1;32m<ipython-input-23-89dea8b964ac>\u001b[0m in \u001b[0;36m<module>\u001b[1;34m()\u001b[0m\n\u001b[1;32m----> 1\u001b[1;33m \u001b[0mdf\u001b[0m\u001b[1;33m[\u001b[0m\u001b[1;34m'Size'\u001b[0m\u001b[1;33m]\u001b[0m \u001b[1;33m=\u001b[0m \u001b[0mdf\u001b[0m\u001b[1;33m[\u001b[0m\u001b[1;34m'Size'\u001b[0m\u001b[1;33m]\u001b[0m\u001b[1;33m.\u001b[0m\u001b[0mastype\u001b[0m\u001b[1;33m(\u001b[0m\u001b[1;34m'int'\u001b[0m\u001b[1;33m)\u001b[0m\u001b[1;33m\u001b[0m\u001b[0m\n\u001b[0m",
        "\u001b[1;32m/home/magik/miniconda/lib/python2.7/site-packages/pandas/core/generic.pyc\u001b[0m in \u001b[0;36mastype\u001b[1;34m(self, dtype, copy, raise_on_error)\u001b[0m\n\u001b[0;32m   2096\u001b[0m \u001b[1;33m\u001b[0m\u001b[0m\n\u001b[0;32m   2097\u001b[0m         mgr = self._data.astype(\n\u001b[1;32m-> 2098\u001b[1;33m             dtype=dtype, copy=copy, raise_on_error=raise_on_error)\n\u001b[0m\u001b[0;32m   2099\u001b[0m         \u001b[1;32mreturn\u001b[0m \u001b[0mself\u001b[0m\u001b[1;33m.\u001b[0m\u001b[0m_constructor\u001b[0m\u001b[1;33m(\u001b[0m\u001b[0mmgr\u001b[0m\u001b[1;33m)\u001b[0m\u001b[1;33m.\u001b[0m\u001b[0m__finalize__\u001b[0m\u001b[1;33m(\u001b[0m\u001b[0mself\u001b[0m\u001b[1;33m)\u001b[0m\u001b[1;33m\u001b[0m\u001b[0m\n\u001b[0;32m   2100\u001b[0m \u001b[1;33m\u001b[0m\u001b[0m\n",
        "\u001b[1;32m/home/magik/miniconda/lib/python2.7/site-packages/pandas/core/internals.pyc\u001b[0m in \u001b[0;36mastype\u001b[1;34m(self, dtype, **kwargs)\u001b[0m\n\u001b[0;32m   2235\u001b[0m \u001b[1;33m\u001b[0m\u001b[0m\n\u001b[0;32m   2236\u001b[0m     \u001b[1;32mdef\u001b[0m \u001b[0mastype\u001b[0m\u001b[1;33m(\u001b[0m\u001b[0mself\u001b[0m\u001b[1;33m,\u001b[0m \u001b[0mdtype\u001b[0m\u001b[1;33m,\u001b[0m \u001b[1;33m**\u001b[0m\u001b[0mkwargs\u001b[0m\u001b[1;33m)\u001b[0m\u001b[1;33m:\u001b[0m\u001b[1;33m\u001b[0m\u001b[0m\n\u001b[1;32m-> 2237\u001b[1;33m         \u001b[1;32mreturn\u001b[0m \u001b[0mself\u001b[0m\u001b[1;33m.\u001b[0m\u001b[0mapply\u001b[0m\u001b[1;33m(\u001b[0m\u001b[1;34m'astype'\u001b[0m\u001b[1;33m,\u001b[0m \u001b[0mdtype\u001b[0m\u001b[1;33m=\u001b[0m\u001b[0mdtype\u001b[0m\u001b[1;33m,\u001b[0m \u001b[1;33m**\u001b[0m\u001b[0mkwargs\u001b[0m\u001b[1;33m)\u001b[0m\u001b[1;33m\u001b[0m\u001b[0m\n\u001b[0m\u001b[0;32m   2238\u001b[0m \u001b[1;33m\u001b[0m\u001b[0m\n\u001b[0;32m   2239\u001b[0m     \u001b[1;32mdef\u001b[0m \u001b[0mconvert\u001b[0m\u001b[1;33m(\u001b[0m\u001b[0mself\u001b[0m\u001b[1;33m,\u001b[0m \u001b[1;33m**\u001b[0m\u001b[0mkwargs\u001b[0m\u001b[1;33m)\u001b[0m\u001b[1;33m:\u001b[0m\u001b[1;33m\u001b[0m\u001b[0m\n",
        "\u001b[1;32m/home/magik/miniconda/lib/python2.7/site-packages/pandas/core/internals.pyc\u001b[0m in \u001b[0;36mapply\u001b[1;34m(self, f, axes, filter, do_integrity_check, **kwargs)\u001b[0m\n\u001b[0;32m   2190\u001b[0m                                                  copy=align_copy)\n\u001b[0;32m   2191\u001b[0m \u001b[1;33m\u001b[0m\u001b[0m\n\u001b[1;32m-> 2192\u001b[1;33m             \u001b[0mapplied\u001b[0m \u001b[1;33m=\u001b[0m \u001b[0mgetattr\u001b[0m\u001b[1;33m(\u001b[0m\u001b[0mb\u001b[0m\u001b[1;33m,\u001b[0m \u001b[0mf\u001b[0m\u001b[1;33m)\u001b[0m\u001b[1;33m(\u001b[0m\u001b[1;33m**\u001b[0m\u001b[0mkwargs\u001b[0m\u001b[1;33m)\u001b[0m\u001b[1;33m\u001b[0m\u001b[0m\n\u001b[0m\u001b[0;32m   2193\u001b[0m \u001b[1;33m\u001b[0m\u001b[0m\n\u001b[0;32m   2194\u001b[0m             \u001b[1;32mif\u001b[0m \u001b[0misinstance\u001b[0m\u001b[1;33m(\u001b[0m\u001b[0mapplied\u001b[0m\u001b[1;33m,\u001b[0m \u001b[0mlist\u001b[0m\u001b[1;33m)\u001b[0m\u001b[1;33m:\u001b[0m\u001b[1;33m\u001b[0m\u001b[0m\n",
        "\u001b[1;32m/home/magik/miniconda/lib/python2.7/site-packages/pandas/core/internals.pyc\u001b[0m in \u001b[0;36mastype\u001b[1;34m(self, dtype, copy, raise_on_error, values)\u001b[0m\n\u001b[0;32m    319\u001b[0m     \u001b[1;32mdef\u001b[0m \u001b[0mastype\u001b[0m\u001b[1;33m(\u001b[0m\u001b[0mself\u001b[0m\u001b[1;33m,\u001b[0m \u001b[0mdtype\u001b[0m\u001b[1;33m,\u001b[0m \u001b[0mcopy\u001b[0m\u001b[1;33m=\u001b[0m\u001b[0mFalse\u001b[0m\u001b[1;33m,\u001b[0m \u001b[0mraise_on_error\u001b[0m\u001b[1;33m=\u001b[0m\u001b[0mTrue\u001b[0m\u001b[1;33m,\u001b[0m \u001b[0mvalues\u001b[0m\u001b[1;33m=\u001b[0m\u001b[0mNone\u001b[0m\u001b[1;33m)\u001b[0m\u001b[1;33m:\u001b[0m\u001b[1;33m\u001b[0m\u001b[0m\n\u001b[0;32m    320\u001b[0m         return self._astype(dtype, copy=copy, raise_on_error=raise_on_error,\n\u001b[1;32m--> 321\u001b[1;33m                             values=values)\n\u001b[0m\u001b[0;32m    322\u001b[0m \u001b[1;33m\u001b[0m\u001b[0m\n\u001b[0;32m    323\u001b[0m     def _astype(self, dtype, copy=False, raise_on_error=True, values=None,\n",
        "\u001b[1;32m/home/magik/miniconda/lib/python2.7/site-packages/pandas/core/internals.pyc\u001b[0m in \u001b[0;36m_astype\u001b[1;34m(self, dtype, copy, raise_on_error, values, klass)\u001b[0m\n\u001b[0;32m    337\u001b[0m             \u001b[1;32mif\u001b[0m \u001b[0mvalues\u001b[0m \u001b[1;32mis\u001b[0m \u001b[0mNone\u001b[0m\u001b[1;33m:\u001b[0m\u001b[1;33m\u001b[0m\u001b[0m\n\u001b[0;32m    338\u001b[0m                 \u001b[1;31m# _astype_nansafe works fine with 1-d only\u001b[0m\u001b[1;33m\u001b[0m\u001b[1;33m\u001b[0m\u001b[0m\n\u001b[1;32m--> 339\u001b[1;33m                 \u001b[0mvalues\u001b[0m \u001b[1;33m=\u001b[0m \u001b[0mcom\u001b[0m\u001b[1;33m.\u001b[0m\u001b[0m_astype_nansafe\u001b[0m\u001b[1;33m(\u001b[0m\u001b[0mself\u001b[0m\u001b[1;33m.\u001b[0m\u001b[0mvalues\u001b[0m\u001b[1;33m.\u001b[0m\u001b[0mravel\u001b[0m\u001b[1;33m(\u001b[0m\u001b[1;33m)\u001b[0m\u001b[1;33m,\u001b[0m \u001b[0mdtype\u001b[0m\u001b[1;33m,\u001b[0m \u001b[0mcopy\u001b[0m\u001b[1;33m=\u001b[0m\u001b[0mTrue\u001b[0m\u001b[1;33m)\u001b[0m\u001b[1;33m\u001b[0m\u001b[0m\n\u001b[0m\u001b[0;32m    340\u001b[0m                 \u001b[0mvalues\u001b[0m \u001b[1;33m=\u001b[0m \u001b[0mvalues\u001b[0m\u001b[1;33m.\u001b[0m\u001b[0mreshape\u001b[0m\u001b[1;33m(\u001b[0m\u001b[0mself\u001b[0m\u001b[1;33m.\u001b[0m\u001b[0mvalues\u001b[0m\u001b[1;33m.\u001b[0m\u001b[0mshape\u001b[0m\u001b[1;33m)\u001b[0m\u001b[1;33m\u001b[0m\u001b[0m\n\u001b[0;32m    341\u001b[0m             newb = make_block(values,\n",
        "\u001b[1;32m/home/magik/miniconda/lib/python2.7/site-packages/pandas/core/common.pyc\u001b[0m in \u001b[0;36m_astype_nansafe\u001b[1;34m(arr, dtype, copy)\u001b[0m\n\u001b[0;32m   2410\u001b[0m     \u001b[1;32melif\u001b[0m \u001b[0marr\u001b[0m\u001b[1;33m.\u001b[0m\u001b[0mdtype\u001b[0m \u001b[1;33m==\u001b[0m \u001b[0mnp\u001b[0m\u001b[1;33m.\u001b[0m\u001b[0mobject_\u001b[0m \u001b[1;32mand\u001b[0m \u001b[0mnp\u001b[0m\u001b[1;33m.\u001b[0m\u001b[0missubdtype\u001b[0m\u001b[1;33m(\u001b[0m\u001b[0mdtype\u001b[0m\u001b[1;33m.\u001b[0m\u001b[0mtype\u001b[0m\u001b[1;33m,\u001b[0m \u001b[0mnp\u001b[0m\u001b[1;33m.\u001b[0m\u001b[0minteger\u001b[0m\u001b[1;33m)\u001b[0m\u001b[1;33m:\u001b[0m\u001b[1;33m\u001b[0m\u001b[0m\n\u001b[0;32m   2411\u001b[0m         \u001b[1;31m# work around NumPy brokenness, #1987\u001b[0m\u001b[1;33m\u001b[0m\u001b[1;33m\u001b[0m\u001b[0m\n\u001b[1;32m-> 2412\u001b[1;33m         \u001b[1;32mreturn\u001b[0m \u001b[0mlib\u001b[0m\u001b[1;33m.\u001b[0m\u001b[0mastype_intsafe\u001b[0m\u001b[1;33m(\u001b[0m\u001b[0marr\u001b[0m\u001b[1;33m.\u001b[0m\u001b[0mravel\u001b[0m\u001b[1;33m(\u001b[0m\u001b[1;33m)\u001b[0m\u001b[1;33m,\u001b[0m \u001b[0mdtype\u001b[0m\u001b[1;33m)\u001b[0m\u001b[1;33m.\u001b[0m\u001b[0mreshape\u001b[0m\u001b[1;33m(\u001b[0m\u001b[0marr\u001b[0m\u001b[1;33m.\u001b[0m\u001b[0mshape\u001b[0m\u001b[1;33m)\u001b[0m\u001b[1;33m\u001b[0m\u001b[0m\n\u001b[0m\u001b[0;32m   2413\u001b[0m     \u001b[1;32melif\u001b[0m \u001b[0missubclass\u001b[0m\u001b[1;33m(\u001b[0m\u001b[0mdtype\u001b[0m\u001b[1;33m.\u001b[0m\u001b[0mtype\u001b[0m\u001b[1;33m,\u001b[0m \u001b[0mcompat\u001b[0m\u001b[1;33m.\u001b[0m\u001b[0mstring_types\u001b[0m\u001b[1;33m)\u001b[0m\u001b[1;33m:\u001b[0m\u001b[1;33m\u001b[0m\u001b[0m\n\u001b[0;32m   2414\u001b[0m         \u001b[1;32mreturn\u001b[0m \u001b[0mlib\u001b[0m\u001b[1;33m.\u001b[0m\u001b[0mastype_str\u001b[0m\u001b[1;33m(\u001b[0m\u001b[0marr\u001b[0m\u001b[1;33m.\u001b[0m\u001b[0mravel\u001b[0m\u001b[1;33m(\u001b[0m\u001b[1;33m)\u001b[0m\u001b[1;33m)\u001b[0m\u001b[1;33m.\u001b[0m\u001b[0mreshape\u001b[0m\u001b[1;33m(\u001b[0m\u001b[0marr\u001b[0m\u001b[1;33m.\u001b[0m\u001b[0mshape\u001b[0m\u001b[1;33m)\u001b[0m\u001b[1;33m\u001b[0m\u001b[0m\n",
        "\u001b[1;32m/home/magik/miniconda/lib/python2.7/site-packages/pandas/lib.so\u001b[0m in \u001b[0;36mpandas.lib.astype_intsafe (pandas/lib.c:13995)\u001b[1;34m()\u001b[0m\n",
        "\u001b[1;32m/home/magik/miniconda/lib/python2.7/site-packages/pandas/lib.so\u001b[0m in \u001b[0;36mutil.set_value_at (pandas/lib.c:57776)\u001b[1;34m()\u001b[0m\n",
        "\u001b[1;31mValueError\u001b[0m: invalid literal for long() with base 10: '-'"
       ]
      }
     ],
     "prompt_number": 23
    },
    {
     "cell_type": "code",
     "collapsed": false,
     "input": [
      "df['Size'][93]"
     ],
     "language": "python",
     "metadata": {},
     "outputs": []
    },
    {
     "cell_type": "markdown",
     "metadata": {},
     "source": [
      "We can apply a custom function to this column, that will convert all dashes to NaN, and the rest to floats, additionally converting from bytes to megabytes:"
     ]
    },
    {
     "cell_type": "code",
     "collapsed": false,
     "input": [
      "def dash2nan(x):\n",
      "    if x == '-':\n",
      "        x = np.nan\n",
      "    else:\n",
      "        x = float(x)/1048576.\n",
      "    \n",
      "    return x"
     ],
     "language": "python",
     "metadata": {},
     "outputs": [],
     "prompt_number": 24
    },
    {
     "cell_type": "code",
     "collapsed": false,
     "input": [
      "df['Size'] = df['Size'].apply(dash2nan)"
     ],
     "language": "python",
     "metadata": {},
     "outputs": [],
     "prompt_number": 25
    },
    {
     "cell_type": "code",
     "collapsed": false,
     "input": [
      "df.head()"
     ],
     "language": "python",
     "metadata": {},
     "outputs": [
      {
       "html": [
        "<div style=\"max-height:1000px;max-width:1500px;overflow:auto;\">\n",
        "<table border=\"1\" class=\"dataframe\">\n",
        "  <thead>\n",
        "    <tr style=\"text-align: right;\">\n",
        "      <th></th>\n",
        "      <th>Status</th>\n",
        "      <th>Size</th>\n",
        "      <th>IP</th>\n",
        "      <th>Request</th>\n",
        "    </tr>\n",
        "    <tr>\n",
        "      <th>Time</th>\n",
        "      <th></th>\n",
        "      <th></th>\n",
        "      <th></th>\n",
        "      <th></th>\n",
        "    </tr>\n",
        "  </thead>\n",
        "  <tbody>\n",
        "    <tr>\n",
        "      <th>2013-03-16 08:00:25</th>\n",
        "      <td> 200</td>\n",
        "      <td> 0.024916</td>\n",
        "      <td> 109.165.31.156</td>\n",
        "      <td> GET /index.php?option=com_content&amp;task=section...</td>\n",
        "    </tr>\n",
        "    <tr>\n",
        "      <th>2013-03-16 08:00:25</th>\n",
        "      <td> 200</td>\n",
        "      <td> 0.010044</td>\n",
        "      <td> 109.165.31.156</td>\n",
        "      <td> GET /templates/ja_procyon/css/template_css.css...</td>\n",
        "    </tr>\n",
        "    <tr>\n",
        "      <th>2013-03-16 08:00:25</th>\n",
        "      <td> 200</td>\n",
        "      <td> 0.001767</td>\n",
        "      <td> 109.165.31.156</td>\n",
        "      <td>    GET /templates/ja_procyon/switcher.js HTTP/1.0</td>\n",
        "    </tr>\n",
        "    <tr>\n",
        "      <th>2013-03-16 08:00:25</th>\n",
        "      <td> 200</td>\n",
        "      <td> 0.035432</td>\n",
        "      <td> 109.165.31.156</td>\n",
        "      <td>         GET /includes/js/overlib_mini.js HTTP/1.0</td>\n",
        "    </tr>\n",
        "    <tr>\n",
        "      <th>2013-03-16 08:00:25</th>\n",
        "      <td> 200</td>\n",
        "      <td> 0.003794</td>\n",
        "      <td> 109.165.31.156</td>\n",
        "      <td> GET /modules/ja_transmenu/transmenuh.css HTTP/1.0</td>\n",
        "    </tr>\n",
        "  </tbody>\n",
        "</table>\n",
        "</div>"
       ],
       "metadata": {},
       "output_type": "pyout",
       "prompt_number": 26,
       "text": [
        "                     Status      Size              IP  \\\n",
        "Time                                                    \n",
        "2013-03-16 08:00:25     200  0.024916  109.165.31.156   \n",
        "2013-03-16 08:00:25     200  0.010044  109.165.31.156   \n",
        "2013-03-16 08:00:25     200  0.001767  109.165.31.156   \n",
        "2013-03-16 08:00:25     200  0.035432  109.165.31.156   \n",
        "2013-03-16 08:00:25     200  0.003794  109.165.31.156   \n",
        "\n",
        "                                                               Request  \n",
        "Time                                                                    \n",
        "2013-03-16 08:00:25  GET /index.php?option=com_content&task=section...  \n",
        "2013-03-16 08:00:25  GET /templates/ja_procyon/css/template_css.css...  \n",
        "2013-03-16 08:00:25     GET /templates/ja_procyon/switcher.js HTTP/1.0  \n",
        "2013-03-16 08:00:25          GET /includes/js/overlib_mini.js HTTP/1.0  \n",
        "2013-03-16 08:00:25  GET /modules/ja_transmenu/transmenuh.css HTTP/1.0  "
       ]
      }
     ],
     "prompt_number": 26
    },
    {
     "cell_type": "heading",
     "level": 3,
     "metadata": {},
     "source": [
      "Traffic analysis"
     ]
    },
    {
     "cell_type": "markdown",
     "metadata": {},
     "source": [
      "Our first, simplest plot: outgoing traffic from the website:"
     ]
    },
    {
     "cell_type": "code",
     "collapsed": false,
     "input": [
      "df['Size'].plot()"
     ],
     "language": "python",
     "metadata": {},
     "outputs": [
      {
       "metadata": {},
       "output_type": "pyout",
       "prompt_number": 27,
       "text": [
        "<matplotlib.axes.AxesSubplot at 0xac070e4c>"
       ]
      },
      {
       "metadata": {},
       "output_type": "display_data",
       "png": "[encoded data removed]",
       "text": [
        "<matplotlib.figure.Figure at 0xac0706ec>"
       ]
      }
     ],
     "prompt_number": 27
    },
    {
     "cell_type": "code",
     "collapsed": false,
     "input": [
      "df['Size'].plot(style='o')"
     ],
     "language": "python",
     "metadata": {},
     "outputs": [
      {
       "metadata": {},
       "output_type": "pyout",
       "prompt_number": 28,
       "text": [
        "<matplotlib.axes.AxesSubplot at 0xb4ac130c>"
       ]
      },
      {
       "metadata": {},
       "output_type": "display_data",
       "png": "[encoded data removed]",
       "text": [
        "<matplotlib.figure.Figure at 0xac1b74ac>"
       ]
      }
     ],
     "prompt_number": 28
    },
    {
     "cell_type": "markdown",
     "metadata": {},
     "source": [
      "Look's like somebody downloaded something big from the website around 9 a.m."
     ]
    },
    {
     "cell_type": "markdown",
     "metadata": {},
     "source": [
      "But actually the first thing that you probably want to know is how many visits (actually hits) your site has, and how they are distributed in time. We resample the series of variable *b* with 5 minute intervals, and calculate number of requests during every time span. Actually, in this case it doesn't matter what variable we use, these numbers will indicate just how many times information from the the website was requested."
     ]
    },
    {
     "cell_type": "code",
     "collapsed": false,
     "input": [
      "df_s = df['Size'].resample('5t', how='count')\n",
      "df_s.plot()"
     ],
     "language": "python",
     "metadata": {},
     "outputs": []
    },
    {
     "cell_type": "markdown",
     "metadata": {},
     "source": [
      "We can not only count number of requests per time, but also calculate the sum of the traffic for every time span:"
     ]
    },
    {
     "cell_type": "code",
     "collapsed": false,
     "input": [
      "df_b = df['Size'].resample('10t', how=['count','sum'])\n",
      "df_b.plot( secondary_y=['count'])\n",
      "#legend()\n",
      "#df_b['sum'].plot(secondary_y=True)\n",
      "#legend()"
     ],
     "language": "python",
     "metadata": {},
     "outputs": []
    },
    {
     "cell_type": "markdown",
     "metadata": {},
     "source": [
      "On the plot you can see, that the number of server requests do not always coincide with the amount of traffic, and correlation is actually not extremely high:"
     ]
    },
    {
     "cell_type": "code",
     "collapsed": false,
     "input": [
      "df_b.corr()"
     ],
     "language": "python",
     "metadata": {},
     "outputs": []
    },
    {
     "cell_type": "markdown",
     "metadata": {},
     "source": [
      "We can have a closer look at the curious morning peak:"
     ]
    },
    {
     "cell_type": "code",
     "collapsed": false,
     "input": [
      "df['2013-03-16 8:00':'2013-03-16 10:00']['Size'].plot(style='o')"
     ],
     "language": "python",
     "metadata": {},
     "outputs": []
    },
    {
     "cell_type": "markdown",
     "metadata": {},
     "source": [
      "Seems that this traffic spike was caused by only one request. Let's find out how this request looks. Choose all requests with the size of the response larger than 20 Mb (remember we convert bytes to Mb):"
     ]
    },
    {
     "cell_type": "code",
     "collapsed": false,
     "input": [
      "df[df['Size']>20]"
     ],
     "language": "python",
     "metadata": {},
     "outputs": []
    },
    {
     "cell_type": "markdown",
     "metadata": {},
     "source": [
      "It was a .pdf file of a book (look at Request field), and this explains the peak in outgoing trafic at 2013-03-16 09:02:59."
     ]
    },
    {
     "cell_type": "markdown",
     "metadata": {},
     "source": [
      "Clearly 20 Mb is a large request (for our website at least :)). But what is  the typical size of the server's response? The histogram of response sizes (less than 20 Mb) looks like this:"
     ]
    },
    {
     "cell_type": "code",
     "collapsed": false,
     "input": [
      "cc = df[df['Size']<20]\n",
      "cc['Size'].hist(bins=10)"
     ],
     "language": "python",
     "metadata": {},
     "outputs": []
    },
    {
     "cell_type": "markdown",
     "metadata": {},
     "source": [
      "So,  most of the files are less than 0.5 Mb large. In fact they are even smaller:"
     ]
    },
    {
     "cell_type": "code",
     "collapsed": false,
     "input": [
      "cc = df[df['Size']<0.3]\n",
      "cc['Size'].hist(bins=20)"
     ],
     "language": "python",
     "metadata": {},
     "outputs": []
    },
    {
     "cell_type": "markdown",
     "metadata": {},
     "source": [
      "Very small responses can be all kinds of stuff, but larger ones are probably some relatively big files. Let's have a look at these little spikes between 0.15 and 0.25 Mb:"
     ]
    },
    {
     "cell_type": "code",
     "collapsed": false,
     "input": [
      "cc = df[(df['Size']>0.15)&(df['Size']<0.25)]\n",
      "cc.Size.hist(bins=100)"
     ],
     "language": "python",
     "metadata": {},
     "outputs": []
    },
    {
     "cell_type": "markdown",
     "metadata": {},
     "source": [
      "We now can locate the size of the file more precisely, and find out its name:"
     ]
    },
    {
     "cell_type": "code",
     "collapsed": false,
     "input": [
      "cc = df[(df['Size']>0.220)&(df['Size']<0.224)]\n",
      "cc.head()"
     ],
     "language": "python",
     "metadata": {},
     "outputs": []
    },
    {
     "cell_type": "markdown",
     "metadata": {},
     "source": [
      "This is one of the image files from the front page of the website. "
     ]
    },
    {
     "cell_type": "heading",
     "level": 3,
     "metadata": {},
     "source": [
      "Server status codes"
     ]
    },
    {
     "cell_type": "markdown",
     "metadata": {},
     "source": [
      "I would like to know how different server responses are distributed through time. Let's first try a not very elegant approach. We create several variables with time series of *Status* values, each containing only a time series with one particular value. Then a Data Frame is created out of this time series. "
     ]
    },
    {
     "cell_type": "code",
     "collapsed": false,
     "input": [
      "t_span = '2H'\n",
      "df_404 = df['Status'][df['Status'] == 404].resample(t_span, how='count')\n",
      "df_403 = df['Status'][df['Status'] == 403].resample(t_span, how='count')\n",
      "df_301 = df['Status'][df['Status'] == 301].resample(t_span, how='count')\n",
      "df_304 = df['Status'][df['Status'] == 304].resample(t_span, how='count')\n",
      "df_200 = df['Status'][df['Status'] == 200].resample(t_span, how='count')\n",
      "\n",
      "status_df = pd.DataFrame({'Not Found':df_404, 'Forbidden':df_403, \\\n",
      "                          'Moved Permanently':df_301, 'Not Modified':df_304, 'OK':df_200,})"
     ],
     "language": "python",
     "metadata": {},
     "outputs": []
    },
    {
     "cell_type": "code",
     "collapsed": false,
     "input": [
      "status_df.head()"
     ],
     "language": "python",
     "metadata": {},
     "outputs": []
    },
    {
     "cell_type": "markdown",
     "metadata": {},
     "source": [
      "We plot all values at once:"
     ]
    },
    {
     "cell_type": "code",
     "collapsed": false,
     "input": [
      "status_df.plot(figsize=(14, 7), kind='area')"
     ],
     "language": "python",
     "metadata": {},
     "outputs": []
    },
    {
     "cell_type": "markdown",
     "metadata": {},
     "source": [
      "Show only Error and Redirection status codes as a stacked plot:"
     ]
    },
    {
     "cell_type": "code",
     "collapsed": false,
     "input": [
      "status_df[['Not Found','Forbidden','Moved Permanently','Not Modified']].\\\n",
      "                          plot(kind='barh', stacked=True, figsize=(10, 8))"
     ],
     "language": "python",
     "metadata": {},
     "outputs": []
    },
    {
     "cell_type": "heading",
     "level": 3,
     "metadata": {},
     "source": [
      "Groupby"
     ]
    },
    {
     "cell_type": "markdown",
     "metadata": {},
     "source": [
      "<img src=\"files/splitApplyCombine.png\">"
     ]
    },
    {
     "cell_type": "markdown",
     "metadata": {},
     "source": [
      "But there is a better way to receive statistics about different groups of values. Here we group our data by *Status*:"
     ]
    },
    {
     "cell_type": "code",
     "collapsed": false,
     "input": [
      "grouped_status = df.groupby('Status')"
     ],
     "language": "python",
     "metadata": {},
     "outputs": []
    },
    {
     "cell_type": "markdown",
     "metadata": {},
     "source": [
      "Data are now rearranged in to several groups, each corresponding to a certain value of *Status* (here, only the first two values of every group are shown):"
     ]
    },
    {
     "cell_type": "code",
     "collapsed": false,
     "input": [
      "grouped_status.groups"
     ],
     "language": "python",
     "metadata": {},
     "outputs": []
    },
    {
     "cell_type": "markdown",
     "metadata": {},
     "source": [
      "We can count the number of values in each group:"
     ]
    },
    {
     "cell_type": "code",
     "collapsed": false,
     "input": [
      "grouped_status.size().plot(kind='bar')"
     ],
     "language": "python",
     "metadata": {},
     "outputs": []
    },
    {
     "cell_type": "markdown",
     "metadata": {},
     "source": [
      "We can look at individual groups:"
     ]
    },
    {
     "cell_type": "code",
     "collapsed": false,
     "input": [
      "t_span = '30t'\n",
      "grouped_status.get_group(301)['Status'].resample(t_span, how='count').plot(color='g', label='301')\n",
      "\n",
      "grouped_status.get_group(200)['Status'].resample(t_span, how='count').plot(color='b', secondary_y=True, label='200')\n",
      "legend()"
     ],
     "language": "python",
     "metadata": {},
     "outputs": []
    },
    {
     "cell_type": "markdown",
     "metadata": {},
     "source": [
      "Or we can reproduce plot from above with less effort:"
     ]
    },
    {
     "cell_type": "code",
     "collapsed": false,
     "input": [
      "grouped_status['Status'].resample('2H', how='count')\\\n",
      "                        .swaplevel(0,1).unstack()[[404,403,301,304]].\\\n",
      "                        plot(kind='barh', stacked=True, figsize=(10, 8))"
     ],
     "language": "python",
     "metadata": {},
     "outputs": []
    },
    {
     "cell_type": "heading",
     "level": 3,
     "metadata": {},
     "source": [
      "IPs"
     ]
    },
    {
     "cell_type": "markdown",
     "metadata": {},
     "source": [
      "Now I want to group by IPs and calculate how many requests we get from each of them: "
     ]
    },
    {
     "cell_type": "code",
     "collapsed": false,
     "input": [
      "ips = df.groupby('IP').size()"
     ],
     "language": "python",
     "metadata": {},
     "outputs": []
    },
    {
     "cell_type": "code",
     "collapsed": false,
     "input": [
      "ips.head()"
     ],
     "language": "python",
     "metadata": {},
     "outputs": []
    },
    {
     "cell_type": "markdown",
     "metadata": {},
     "source": [
      "I don't want to see all of them, just the top 10:"
     ]
    },
    {
     "cell_type": "code",
     "collapsed": false,
     "input": [
      "ips.sort()\n",
      "ips[-10:].plot(kind='barh')"
     ],
     "language": "python",
     "metadata": {},
     "outputs": []
    },
    {
     "cell_type": "markdown",
     "metadata": {},
     "source": [
      "We also can group by both *IP* and *Status*:"
     ]
    },
    {
     "cell_type": "code",
     "collapsed": false,
     "input": [
      "ips_status = df.groupby(['IP', 'Status']).size()"
     ],
     "language": "python",
     "metadata": {},
     "outputs": []
    },
    {
     "cell_type": "code",
     "collapsed": false,
     "input": [
      "ips_status.head(10)"
     ],
     "language": "python",
     "metadata": {},
     "outputs": []
    },
    {
     "cell_type": "code",
     "collapsed": false,
     "input": [
      "ips_status.sort()\n",
      "ips_status[-20:].plot(kind='barh')"
     ],
     "language": "python",
     "metadata": {},
     "outputs": []
    },
    {
     "cell_type": "heading",
     "level": 3,
     "metadata": {},
     "source": [
      "Geographical information"
     ]
    },
    {
     "cell_type": "markdown",
     "metadata": {},
     "source": [
      "I would like to know from which countries people or robots come to the website. It turns out that precise geolocation information is not free, but for our purposes free data bases are fine. We will use [pygeoip](https://github.com/appliedsec/pygeoip) to get information from GeoIP database, and that has to be downloaded from [here](http://dev.maxmind.com/geoip/geolite).  "
     ]
    },
    {
     "cell_type": "markdown",
     "metadata": {},
     "source": [
      "Import module and initialise data base:"
     ]
    },
    {
     "cell_type": "code",
     "collapsed": false,
     "input": [
      "import pygeoip\n",
      "gi = pygeoip.GeoIP('./GeoLiteCity.dat', pygeoip.MEMORY_CACHE)"
     ],
     "language": "python",
     "metadata": {},
     "outputs": []
    },
    {
     "cell_type": "markdown",
     "metadata": {},
     "source": [
      "This is how output of the pygeoip looks (we test our top IP from the previous section):"
     ]
    },
    {
     "cell_type": "code",
     "collapsed": false,
     "input": [
      "ipcon = gi.record_by_addr('64.233.161.99')\n",
      "ipcon"
     ],
     "language": "python",
     "metadata": {},
     "outputs": []
    },
    {
     "cell_type": "markdown",
     "metadata": {},
     "source": [
      "Guess who it is :) Looks like Google Bot is my main reader. That's rather sad :("
     ]
    },
    {
     "cell_type": "markdown",
     "metadata": {},
     "source": [
      "Loop to create a list of dictionaries with information about IP numbers. We also add information about the number of requests from each of the IPs:"
     ]
    },
    {
     "cell_type": "code",
     "collapsed": false,
     "input": [
      "ipcon = []\n",
      "for nn, iip in enumerate(ips.index):\n",
      "    rres = gi.record_by_addr(iip)\n",
      "    if rres:\n",
      "        #    rres['ip']                 = iip\n",
      "        rres['Number'] = ips[iip]\n",
      "        #delete some fields we don't need\n",
      "        del rres['area_code']\n",
      "        del rres['dma_code']\n",
      "        del rres['metro_code']\n",
      "        del rres['postal_code']\n",
      "        #del rres['region_name']\n",
      "        del rres['time_zone']\n",
      "        del rres['country_code']\n",
      "        ipcon.append(rres)\n",
      "    else:\n",
      "        ips = ips.drop(ips.index[[nn]])\n",
      "    "
     ],
     "language": "python",
     "metadata": {},
     "outputs": []
    },
    {
     "cell_type": "markdown",
     "metadata": {},
     "source": [
      "Create Data Frame from this list, use ips index:"
     ]
    },
    {
     "cell_type": "code",
     "collapsed": false,
     "input": [
      "reg = pd.DataFrame(ipcon, index = ips.index)\n",
      "reg.head()"
     ],
     "language": "python",
     "metadata": {},
     "outputs": []
    },
    {
     "cell_type": "markdown",
     "metadata": {},
     "source": [
      "Group by Country:"
     ]
    },
    {
     "cell_type": "code",
     "collapsed": false,
     "input": [
      "country = reg.groupby('country_code3').sum()"
     ],
     "language": "python",
     "metadata": {},
     "outputs": []
    },
    {
     "cell_type": "code",
     "collapsed": false,
     "input": [
      "country.head()"
     ],
     "language": "python",
     "metadata": {},
     "outputs": []
    },
    {
     "cell_type": "code",
     "collapsed": false,
     "input": [
      "country = country.sort(columns=['Number'])\n",
      "country.Number[-10:].plot(kind='barh')"
     ],
     "language": "python",
     "metadata": {},
     "outputs": []
    },
    {
     "cell_type": "markdown",
     "metadata": {},
     "source": [
      "The website is in Russian, so no surprises here."
     ]
    },
    {
     "cell_type": "markdown",
     "metadata": {},
     "source": [
      "Group by city:"
     ]
    },
    {
     "cell_type": "code",
     "collapsed": false,
     "input": [
      "city = reg.groupby('city').sum()"
     ],
     "language": "python",
     "metadata": {},
     "outputs": []
    },
    {
     "cell_type": "code",
     "collapsed": false,
     "input": [
      "city.head()"
     ],
     "language": "python",
     "metadata": {},
     "outputs": []
    },
    {
     "cell_type": "code",
     "collapsed": false,
     "input": [
      "#ff = city.Number.agg('sum').copy()\n",
      "city =city.sort(columns='Number')\n",
      "city.Number[-20:].plot(kind='barh')"
     ],
     "language": "python",
     "metadata": {},
     "outputs": []
    },
    {
     "cell_type": "markdown",
     "metadata": {},
     "source": [
      "The first 3 are kind of expected, but Tyumen, a Russian city located in the middle of Eurasia thousands of kilometers away from the nearest ocean coast, is a bit of a surprise (the website is about Oceanography). This is something to investigate later on. "
     ]
    },
    {
     "cell_type": "markdown",
     "metadata": {},
     "source": [
      "We have lats and lons for the data, so it is natural to put them on the map:"
     ]
    },
    {
     "cell_type": "code",
     "collapsed": false,
     "input": [
      "from mpl_toolkits.basemap import Basemap\n",
      "import matplotlib.cm as cm"
     ],
     "language": "python",
     "metadata": {},
     "outputs": []
    },
    {
     "cell_type": "code",
     "collapsed": false,
     "input": [
      "m = Basemap(projection='robin',lon_0=0,resolution='c')\n",
      "x, y = m(reg.longitude.values,reg.latitude.values)"
     ],
     "language": "python",
     "metadata": {},
     "outputs": []
    },
    {
     "cell_type": "code",
     "collapsed": false,
     "input": [
      "figure(figsize=(15,15))\n",
      "m.drawcoastlines(linewidth=0.25)\n",
      "m.drawcountries(linewidth=0.25)\n",
      "\n",
      "m.fillcontinents(color='coral',lake_color='aqua')\n",
      "m.drawmapboundary(fill_color='white')\n",
      "m.drawmeridians(np.arange(0,360,30))\n",
      "m.drawparallels(np.arange(-90,90,30))\n",
      "m.scatter(x,y,s=reg['Number']*3,c=reg['Number']/5,marker='o',zorder=4, cmap=cm.Paired,alpha=0.5)"
     ],
     "language": "python",
     "metadata": {},
     "outputs": []
    },
    {
     "cell_type": "markdown",
     "metadata": {},
     "source": [
      "Have closer look at Europe:"
     ]
    },
    {
     "cell_type": "code",
     "collapsed": false,
     "input": [
      "m = Basemap(projection='cyl',llcrnrlat=35,urcrnrlat=72,\\\n",
      "            llcrnrlon=-10,urcrnrlon=50,resolution='l')\n",
      "x, y = m(reg['longitude'],reg['latitude'])"
     ],
     "language": "python",
     "metadata": {},
     "outputs": []
    },
    {
     "cell_type": "code",
     "collapsed": false,
     "input": [
      "figure(figsize=(15,15))\n",
      "m.drawcoastlines(linewidth=0.25)\n",
      "m.drawcountries(linewidth=0.25)\n",
      "m.fillcontinents(color='white',lake_color='aqua')\n",
      "m.drawmapboundary(fill_color='aqua')\n",
      "m.drawmeridians(np.arange(0,360,30))\n",
      "m.drawparallels(np.arange(-90,90,30))\n",
      "m.scatter(x,y,s=reg['Number']*30,c=reg['Number'],marker='o',zorder=4, cmap=cm.gist_ncar ,alpha=0.3)\n"
     ],
     "language": "python",
     "metadata": {},
     "outputs": []
    },
    {
     "cell_type": "heading",
     "level": 2,
     "metadata": {},
     "source": [
      "Convert notebook to html"
     ]
    },
    {
     "cell_type": "markdown",
     "metadata": {},
     "source": [
      "System commands can be accesed by !"
     ]
    },
    {
     "cell_type": "code",
     "collapsed": false,
     "input": [
      "!ls"
     ],
     "language": "python",
     "metadata": {},
     "outputs": []
    },
    {
     "cell_type": "markdown",
     "metadata": {},
     "source": [
      "Convert complete notebook to html"
     ]
    },
    {
     "cell_type": "code",
     "collapsed": false,
     "input": [
      "!ipython nbconvert --to=html Apache_log.ipynb"
     ],
     "language": "python",
     "metadata": {},
     "outputs": []
    },
    {
     "cell_type": "markdown",
     "metadata": {},
     "source": [
      "Convert notebook without code cells"
     ]
    },
    {
     "cell_type": "code",
     "collapsed": false,
     "input": [
      "!more full_noinput.tpl"
     ],
     "language": "python",
     "metadata": {},
     "outputs": []
    },
    {
     "cell_type": "code",
     "collapsed": false,
     "input": [
      "!ipython nbconvert --to=html --template=full_noinput.tpl Apache_log.ipynb"
     ],
     "language": "python",
     "metadata": {},
     "outputs": []
    },
    {
     "cell_type": "heading",
     "level": 3,
     "metadata": {},
     "source": [
      "Catching spammers (request methods)"
     ]
    },
    {
     "cell_type": "markdown",
     "metadata": {},
     "source": [
      "Spammers are a huge problem, and it would be nice to filter them out. My website has very low user activity, and if somebody tries to POST something more than couple of times it's already suspicious. First we have to get information about what request method is being used for the requests. For this we have to analyse the *Request* column, which contain strings with requests. Request methods are always located in the beginning of the request string, so it's trivial to get it:"
     ]
    },
    {
     "cell_type": "code",
     "collapsed": false,
     "input": [
      "def gmet(x):\n",
      "    x = x.split()\n",
      "    return x[0]"
     ],
     "language": "python",
     "metadata": {},
     "outputs": []
    },
    {
     "cell_type": "markdown",
     "metadata": {},
     "source": [
      "We apply this little function to the *Request* column and create new *Method* column:"
     ]
    },
    {
     "cell_type": "code",
     "collapsed": false,
     "input": [
      "df['Method'] = df.Request.apply(gmet)"
     ],
     "language": "python",
     "metadata": {},
     "outputs": []
    },
    {
     "cell_type": "code",
     "collapsed": false,
     "input": [
      "df.head()"
     ],
     "language": "python",
     "metadata": {},
     "outputs": []
    },
    {
     "cell_type": "markdown",
     "metadata": {},
     "source": [
      "Group by *Method* and *IP*:"
     ]
    },
    {
     "cell_type": "code",
     "collapsed": false,
     "input": [
      "met = df.groupby(['Method', 'IP']).size()"
     ],
     "language": "python",
     "metadata": {},
     "outputs": []
    },
    {
     "cell_type": "code",
     "collapsed": false,
     "input": [
      "met.head"
     ],
     "language": "python",
     "metadata": {},
     "outputs": []
    },
    {
     "cell_type": "markdown",
     "metadata": {},
     "source": [
      "Create *POST* time series (we have to have a copy of the time series to sort the data):"
     ]
    },
    {
     "cell_type": "code",
     "collapsed": false,
     "input": [
      "post = met['POST'].copy()\n",
      "post.sort()"
     ],
     "language": "python",
     "metadata": {},
     "outputs": []
    },
    {
     "cell_type": "markdown",
     "metadata": {},
     "source": [
      "Plot the top 10 IPs that use POST method:"
     ]
    },
    {
     "cell_type": "code",
     "collapsed": false,
     "input": [
      "post[-10:].plot(kind='barh')"
     ],
     "language": "python",
     "metadata": {},
     "outputs": []
    },
    {
     "cell_type": "code",
     "collapsed": false,
     "input": [
      "post[-5:]"
     ],
     "language": "python",
     "metadata": {},
     "outputs": []
    },
    {
     "cell_type": "markdown",
     "metadata": {},
     "source": [
      "What is the winner doing?"
     ]
    },
    {
     "cell_type": "code",
     "collapsed": false,
     "input": [
      "df[df.IP =='77.222.40.65'][0:5]"
     ],
     "language": "python",
     "metadata": {},
     "outputs": []
    },
    {
     "cell_type": "markdown",
     "metadata": {},
     "source": [
      "Making some Wordpress cron requests... This IP looks familiar... Oh, it's actually the IP of my website - this is my Wordpress doing something. Have to investigate later if I can disable this thing (anyway it's not working, getting 403 error) :) "
     ]
    },
    {
     "cell_type": "markdown",
     "metadata": {},
     "source": [
      "Number two:"
     ]
    },
    {
     "cell_type": "code",
     "collapsed": false,
     "input": [
      "df[df.IP =='160.75.185.7'][0:10]"
     ],
     "language": "python",
     "metadata": {},
     "outputs": []
    },
    {
     "cell_type": "markdown",
     "metadata": {},
     "source": [
      "This is suspicious; looks like it tries to get to the website's admin area - candidate for blocking."
     ]
    },
    {
     "cell_type": "markdown",
     "metadata": {},
     "source": [
      "Number three:"
     ]
    },
    {
     "cell_type": "code",
     "collapsed": false,
     "input": [
      "df[df.IP =='213.248.47.229'][0:10]"
     ],
     "language": "python",
     "metadata": {},
     "outputs": []
    },
    {
     "cell_type": "markdown",
     "metadata": {},
     "source": [
      "This one tries to register on the forum every 5 second or so - clearly forum spammer. Block."
     ]
    },
    {
     "cell_type": "code",
     "collapsed": false,
     "input": [],
     "language": "python",
     "metadata": {},
     "outputs": []
    }
   ],
   "metadata": {}
  }
 ]
}