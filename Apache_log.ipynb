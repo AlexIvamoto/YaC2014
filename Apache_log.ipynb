{
 "metadata": {
  "name": "",
  "signature": "sha256:865087ece912eae23456bafb35336bd983a8262efd2a4478dcfdb2be0f0ac1cd"
 },
 "nbformat": 3,
 "nbformat_minor": 0,
 "worksheets": [
  {
   "cells": [
    {
     "cell_type": "code",
     "collapsed": false,
     "input": [
      "%pylab inline"
     ],
     "language": "python",
     "metadata": {},
     "outputs": []
    },
    {
     "cell_type": "markdown",
     "metadata": {},
     "source": [
      "Apache log analysis with Pandas\n",
      "========="
     ]
    },
    {
     "cell_type": "markdown",
     "metadata": {},
     "source": [
      "    Nikolay Koldunov\n",
      "    koldunovn@gmail.com\n",
      "[koldunov.net](http://koldunov.net)"
     ]
    },
    {
     "cell_type": "markdown",
     "metadata": {},
     "source": [
      "In this notebook, I am going to show simple example of an Apache access log analysis with pandas. It's my first experience with pandas, and I am sure there are better and more efficient ways to do some of the things shown here. So comments, suggestions and corrections of my broken English are very welcome. You can send me an email, or create a PR for [this notebook at github](https://github.com/koldunovn/nk_public_notebooks). "
     ]
    },
    {
     "cell_type": "heading",
     "level": 3,
     "metadata": {},
     "source": [
      "Load and parse the data"
     ]
    },
    {
     "cell_type": "markdown",
     "metadata": {},
     "source": [
      "We will need [apachelog module](http://code.google.com/p/apachelog/), for parsing the log. We also have to know the format of the log that is set in the Apache config. In my case I have no access to the Apache config, but the [hoster provide description of the format](http://help.sweb.ru/entry/2484/) on his help page. Below is the format itself and a short description of every element:\n",
      "    \n",
      "    format = r'%V %h  %l %u %t \\\"%r\\\" %>s %b \\\"%i\\\" \\\"%{User-Agent}i\\\" %T'\n",
      "    \n",
      "Here (copied mostly from [this SO post](http://stackoverflow.com/questions/9234699/understanding-apache-access-log)):\n",
      "    \n",
      "    %V          - the server name according to the UseCanonicalName setting\n",
      "    %h          - remote host (ie the client IP)\n",
      "    %l          - identity of the user determined by identd (not usually used since not reliable)\n",
      "    %u          - user name determined by HTTP authentication\n",
      "    %t          - time the server finished processing the request.\n",
      "    %r          - request line from the client. (\"GET / HTTP/1.0\")\n",
      "    %>s         - status code sent from the server to the client (200, 404 etc.)\n",
      "    %b          - size of the response to the client (in bytes)\n",
      "    \\\"%i\\\"      - Referer is the page that linked to this URL.\n",
      "    User-agent  - the browser identification string\n",
      "    %T          - Apache request time  \n",
      "    "
     ]
    },
    {
     "cell_type": "code",
     "collapsed": false,
     "input": [
      "import apachelog"
     ],
     "language": "python",
     "metadata": {},
     "outputs": []
    },
    {
     "cell_type": "markdown",
     "metadata": {},
     "source": [
      "Set the format:"
     ]
    },
    {
     "cell_type": "code",
     "collapsed": false,
     "input": [
      "fformat = r'%V %h %l %u %t \\\"%r\\\" %>s %b \\\"%i\\\" \\\"%{User-Agent}i\\\" %T'"
     ],
     "language": "python",
     "metadata": {},
     "outputs": []
    },
    {
     "cell_type": "markdown",
     "metadata": {},
     "source": [
      "Create the parcer:"
     ]
    },
    {
     "cell_type": "code",
     "collapsed": false,
     "input": [
      "p = apachelog.parser(fformat)"
     ],
     "language": "python",
     "metadata": {},
     "outputs": []
    },
    {
     "cell_type": "code",
     "collapsed": false,
     "input": [
      "test_string = \\\n",
      "'koldunov.net 85.26.235.202 - - [16/Mar/2013:00:19:43 +0400] \"GET /?p=364 HTTP/1.0\" 200 65237 \\\n",
      "\"http://koldunov.net/?p=364\" \"Mozilla/5.0 (Windows NT 5.1) \\\n",
      "AppleWebKit/537.11 (KHTML, like Gecko) Chrome/23.0.1271.64 Safari/537.11\" 0'"
     ],
     "language": "python",
     "metadata": {},
     "outputs": []
    },
    {
     "cell_type": "code",
     "collapsed": false,
     "input": [
      "data = p.parse(test_string)"
     ],
     "language": "python",
     "metadata": {},
     "outputs": []
    },
    {
     "cell_type": "code",
     "collapsed": false,
     "input": [
      "data"
     ],
     "language": "python",
     "metadata": {},
     "outputs": []
    },
    {
     "cell_type": "markdown",
     "metadata": {},
     "source": [
      "Looks like the parser works. Now to load some real world data (sample file located [here](http://dl.dropbox.com/u/107639/notebooks/access_log_for_pandas) and [here](https://github.com/koldunovn/nk_public_notebooks/raw/master/access_log_for_pandas)):"
     ]
    },
    {
     "cell_type": "code",
     "collapsed": false,
     "input": [
      "log = open('access_log_for_pandas').readlines()"
     ],
     "language": "python",
     "metadata": {},
     "outputs": []
    },
    {
     "cell_type": "markdown",
     "metadata": {},
     "source": [
      "Parse every line of it and create a list of dictionaries:"
     ]
    },
    {
     "cell_type": "code",
     "collapsed": false,
     "input": [
      "log_list = []\n",
      "for line in log:\n",
      "       try:\n",
      "          data = p.parse(line)\n",
      "       except:\n",
      "          sys.stderr.write(\"Unable to parse %s\" % line)\n",
      "       data['%t'] = data['%t'][1:12]+' '+data['%t'][13:21]\n",
      "      \n",
      "       log_list.append(data)\n"
     ],
     "language": "python",
     "metadata": {},
     "outputs": []
    },
    {
     "cell_type": "code",
     "collapsed": false,
     "input": [
      "data['%t'][1:12]+' '+data['%t'][13:21]"
     ],
     "language": "python",
     "metadata": {},
     "outputs": []
    },
    {
     "cell_type": "markdown",
     "metadata": {},
     "source": [
      "We had to tweak the time format a bit, since otherwise pandas will not be able to parse it."
     ]
    },
    {
     "cell_type": "heading",
     "level": 3,
     "metadata": {},
     "source": [
      "Create and tune Data Frame"
     ]
    },
    {
     "cell_type": "markdown",
     "metadata": {},
     "source": [
      "This will create a list of dictionaries, that can be transformed in to a Data Frame:"
     ]
    },
    {
     "cell_type": "code",
     "collapsed": false,
     "input": [
      "import pandas as pd\n",
      "#import numpy as np\n",
      "\n",
      "import seaborn as sns\n",
      "sns.set_context('poster',rc = {\"figure.figsize\": [10,5.5]})"
     ],
     "language": "python",
     "metadata": {},
     "outputs": []
    },
    {
     "cell_type": "code",
     "collapsed": false,
     "input": [
      "df = pd.DataFrame(log_list)"
     ],
     "language": "python",
     "metadata": {},
     "outputs": []
    },
    {
     "cell_type": "markdown",
     "metadata": {},
     "source": [
      "Show the first two lines of the Data Frame:"
     ]
    },
    {
     "cell_type": "code",
     "collapsed": false,
     "input": [
      "df[0:2]"
     ],
     "language": "python",
     "metadata": {},
     "outputs": []
    },
    {
     "cell_type": "markdown",
     "metadata": {},
     "source": [
      "We are not going to use all the data, so let's delete some of the columns:"
     ]
    },
    {
     "cell_type": "code",
     "collapsed": false,
     "input": [
      "del df['%T']; del df['%V']; del df['%i']; del df['%l']; del df['%u']; del df['%{User-Agent}i']"
     ],
     "language": "python",
     "metadata": {},
     "outputs": []
    },
    {
     "cell_type": "code",
     "collapsed": false,
     "input": [
      "df.head()"
     ],
     "language": "python",
     "metadata": {},
     "outputs": []
    },
    {
     "cell_type": "markdown",
     "metadata": {},
     "source": [
      "and rename columns to something that humans can understand:"
     ]
    },
    {
     "cell_type": "code",
     "collapsed": false,
     "input": [
      "df = df.rename(columns={'%>s': 'Status', '%b':'Size', \n",
      "                        '%h':'IP', '%r':'Request', '%t': 'Time'})"
     ],
     "language": "python",
     "metadata": {},
     "outputs": []
    },
    {
     "cell_type": "markdown",
     "metadata": {},
     "source": [
      "First five rows of resulting Data Frame:"
     ]
    },
    {
     "cell_type": "code",
     "collapsed": false,
     "input": [
      "df.head()"
     ],
     "language": "python",
     "metadata": {},
     "outputs": []
    },
    {
     "cell_type": "markdown",
     "metadata": {},
     "source": [
      "Convert Time column to datetime format and make an index out of it (*pop* will drop original *Time* column): "
     ]
    },
    {
     "cell_type": "code",
     "collapsed": false,
     "input": [
      "tfor = '%d/%b/%Y %H:%M:%S'\n",
      "df.index = pd.to_datetime(df.pop('Time'), format=tfor)"
     ],
     "language": "python",
     "metadata": {},
     "outputs": []
    },
    {
     "cell_type": "markdown",
     "metadata": {},
     "source": [
      "The *Status* variable is a string type, so we have to change it to int:"
     ]
    },
    {
     "cell_type": "code",
     "collapsed": false,
     "input": [
      "df.head()"
     ],
     "language": "python",
     "metadata": {},
     "outputs": []
    },
    {
     "cell_type": "code",
     "collapsed": false,
     "input": [
      "df['Status'].dtype"
     ],
     "language": "python",
     "metadata": {},
     "outputs": []
    },
    {
     "cell_type": "code",
     "collapsed": false,
     "input": [
      "df['Status'] = df['Status'].astype('int')"
     ],
     "language": "python",
     "metadata": {},
     "outputs": []
    },
    {
     "cell_type": "markdown",
     "metadata": {},
     "source": [
      "Some of the rows in the *b* column contain '-' string, so we can't convert them with *astype*:"
     ]
    },
    {
     "cell_type": "code",
     "collapsed": false,
     "input": [
      "df['Size'].dtype"
     ],
     "language": "python",
     "metadata": {},
     "outputs": []
    },
    {
     "cell_type": "code",
     "collapsed": false,
     "input": [
      "df['Size'] = df['Size'].astype('int')"
     ],
     "language": "python",
     "metadata": {},
     "outputs": []
    },
    {
     "cell_type": "code",
     "collapsed": false,
     "input": [
      "df['Size'][93]"
     ],
     "language": "python",
     "metadata": {},
     "outputs": []
    },
    {
     "cell_type": "markdown",
     "metadata": {},
     "source": [
      "We can apply a custom function to this column, that will convert all dashes to NaN, and the rest to floats, additionally converting from bytes to megabytes:"
     ]
    },
    {
     "cell_type": "code",
     "collapsed": false,
     "input": [
      "def dash2nan(x):\n",
      "    if x == '-':\n",
      "        x = np.nan\n",
      "    else:\n",
      "        x = float(x)/1048576.\n",
      "    \n",
      "    return x"
     ],
     "language": "python",
     "metadata": {},
     "outputs": []
    },
    {
     "cell_type": "code",
     "collapsed": false,
     "input": [
      "df['Size'] = df['Size'].apply(dash2nan)"
     ],
     "language": "python",
     "metadata": {},
     "outputs": []
    },
    {
     "cell_type": "code",
     "collapsed": false,
     "input": [
      "df.head()"
     ],
     "language": "python",
     "metadata": {},
     "outputs": []
    },
    {
     "cell_type": "heading",
     "level": 3,
     "metadata": {},
     "source": [
      "Traffic analysis"
     ]
    },
    {
     "cell_type": "markdown",
     "metadata": {},
     "source": [
      "Our first, simplest plot: outgoing traffic from the website:"
     ]
    },
    {
     "cell_type": "code",
     "collapsed": false,
     "input": [
      "df['Size'].plot()"
     ],
     "language": "python",
     "metadata": {},
     "outputs": []
    },
    {
     "cell_type": "code",
     "collapsed": false,
     "input": [
      "df['Size'].plot(style='o')"
     ],
     "language": "python",
     "metadata": {},
     "outputs": []
    },
    {
     "cell_type": "markdown",
     "metadata": {},
     "source": [
      "Look's like somebody downloaded something big from the website around 9 a.m."
     ]
    },
    {
     "cell_type": "markdown",
     "metadata": {},
     "source": [
      "But actually the first thing that you probably want to know is how many visits (actually hits) your site has, and how they are distributed in time. We resample the series of variable *b* with 5 minute intervals, and calculate number of requests during every time span. Actually, in this case it doesn't matter what variable we use, these numbers will indicate just how many times information from the the website was requested."
     ]
    },
    {
     "cell_type": "code",
     "collapsed": false,
     "input": [
      "df_s = df['Size'].resample('5t', how='count')\n",
      "df_s.plot()"
     ],
     "language": "python",
     "metadata": {},
     "outputs": []
    },
    {
     "cell_type": "markdown",
     "metadata": {},
     "source": [
      "We can not only count number of requests per time, but also calculate the sum of the traffic for every time span:"
     ]
    },
    {
     "cell_type": "code",
     "collapsed": false,
     "input": [
      "df_b = df['Size'].resample('10t', how=['count','sum'])\n",
      "df_b.plot( secondary_y=['count'])\n",
      "#legend()\n",
      "#df_b['sum'].plot(secondary_y=True)\n",
      "#legend()"
     ],
     "language": "python",
     "metadata": {},
     "outputs": []
    },
    {
     "cell_type": "markdown",
     "metadata": {},
     "source": [
      "On the plot you can see, that the number of server requests do not always coincide with the amount of traffic, and correlation is actually not extremely high:"
     ]
    },
    {
     "cell_type": "code",
     "collapsed": false,
     "input": [
      "df_b.corr()"
     ],
     "language": "python",
     "metadata": {},
     "outputs": []
    },
    {
     "cell_type": "markdown",
     "metadata": {},
     "source": [
      "We can have a closer look at the curious morning peak:"
     ]
    },
    {
     "cell_type": "code",
     "collapsed": false,
     "input": [
      "df['2013-03-16 8:00':'2013-03-16 10:00']['Size'].plot(style='o')"
     ],
     "language": "python",
     "metadata": {},
     "outputs": []
    },
    {
     "cell_type": "markdown",
     "metadata": {},
     "source": [
      "Seems that this traffic spike was caused by only one request. Let's find out how this request looks. Choose all requests with the size of the response larger than 20 Mb (remember we convert bytes to Mb):"
     ]
    },
    {
     "cell_type": "code",
     "collapsed": false,
     "input": [
      "df[df['Size']>20]"
     ],
     "language": "python",
     "metadata": {},
     "outputs": []
    },
    {
     "cell_type": "markdown",
     "metadata": {},
     "source": [
      "It was a .pdf file of a book (look at Request field), and this explains the peak in outgoing trafic at 2013-03-16 09:02:59."
     ]
    },
    {
     "cell_type": "markdown",
     "metadata": {},
     "source": [
      "Clearly 20 Mb is a large request (for our website at least :)). But what is  the typical size of the server's response? The histogram of response sizes (less than 20 Mb) looks like this:"
     ]
    },
    {
     "cell_type": "code",
     "collapsed": false,
     "input": [
      "cc = df[df['Size']<20]\n",
      "cc['Size'].hist(bins=10)"
     ],
     "language": "python",
     "metadata": {},
     "outputs": []
    },
    {
     "cell_type": "markdown",
     "metadata": {},
     "source": [
      "So,  most of the files are less than 0.5 Mb large. In fact they are even smaller:"
     ]
    },
    {
     "cell_type": "code",
     "collapsed": false,
     "input": [
      "cc = df[df['Size']<0.3]\n",
      "cc['Size'].hist(bins=20)"
     ],
     "language": "python",
     "metadata": {},
     "outputs": []
    },
    {
     "cell_type": "markdown",
     "metadata": {},
     "source": [
      "Very small responses can be all kinds of stuff, but larger ones are probably some relatively big files. Let's have a look at these little spikes between 0.15 and 0.25 Mb:"
     ]
    },
    {
     "cell_type": "code",
     "collapsed": false,
     "input": [
      "cc = df[(df['Size']>0.15)&(df['Size']<0.25)]\n",
      "cc.Size.hist(bins=100)"
     ],
     "language": "python",
     "metadata": {},
     "outputs": []
    },
    {
     "cell_type": "markdown",
     "metadata": {},
     "source": [
      "We now can locate the size of the file more precisely, and find out its name:"
     ]
    },
    {
     "cell_type": "code",
     "collapsed": false,
     "input": [
      "cc = df[(df['Size']>0.220)&(df['Size']<0.224)]\n",
      "cc.head()"
     ],
     "language": "python",
     "metadata": {},
     "outputs": []
    },
    {
     "cell_type": "markdown",
     "metadata": {},
     "source": [
      "This is one of the image files from the front page of the website. "
     ]
    },
    {
     "cell_type": "heading",
     "level": 3,
     "metadata": {},
     "source": [
      "Server status codes"
     ]
    },
    {
     "cell_type": "markdown",
     "metadata": {},
     "source": [
      "I would like to know how different server responses are distributed through time. Let's first try a not very elegant approach. We create several variables with time series of *Status* values, each containing only a time series with one particular value. Then a Data Frame is created out of this time series. "
     ]
    },
    {
     "cell_type": "code",
     "collapsed": false,
     "input": [
      "t_span = '2H'\n",
      "df_404 = df['Status'][df['Status'] == 404].resample(t_span, how='count')\n",
      "df_403 = df['Status'][df['Status'] == 403].resample(t_span, how='count')\n",
      "df_301 = df['Status'][df['Status'] == 301].resample(t_span, how='count')\n",
      "df_304 = df['Status'][df['Status'] == 304].resample(t_span, how='count')\n",
      "df_200 = df['Status'][df['Status'] == 200].resample(t_span, how='count')\n",
      "\n",
      "status_df = pd.DataFrame({'Not Found':df_404, 'Forbidden':df_403, \\\n",
      "                          'Moved Permanently':df_301, 'Not Modified':df_304, 'OK':df_200,})"
     ],
     "language": "python",
     "metadata": {},
     "outputs": []
    },
    {
     "cell_type": "code",
     "collapsed": false,
     "input": [
      "status_df.head()"
     ],
     "language": "python",
     "metadata": {},
     "outputs": []
    },
    {
     "cell_type": "markdown",
     "metadata": {},
     "source": [
      "We plot all values at once:"
     ]
    },
    {
     "cell_type": "code",
     "collapsed": false,
     "input": [
      "status_df.plot(figsize=(14, 7), kind='area')"
     ],
     "language": "python",
     "metadata": {},
     "outputs": []
    },
    {
     "cell_type": "markdown",
     "metadata": {},
     "source": [
      "Show only Error and Redirection status codes as a stacked plot:"
     ]
    },
    {
     "cell_type": "code",
     "collapsed": false,
     "input": [
      "status_df[['Not Found','Forbidden','Moved Permanently','Not Modified']].\\\n",
      "                          plot(kind='barh', stacked=True, figsize=(10, 8))"
     ],
     "language": "python",
     "metadata": {},
     "outputs": []
    },
    {
     "cell_type": "heading",
     "level": 3,
     "metadata": {},
     "source": [
      "Groupby"
     ]
    },
    {
     "cell_type": "markdown",
     "metadata": {},
     "source": [
      "<img src=\"files/splitApplyCombine.png\">"
     ]
    },
    {
     "cell_type": "markdown",
     "metadata": {},
     "source": [
      "But there is a better way to receive statistics about different groups of values. Here we group our data by *Status*:"
     ]
    },
    {
     "cell_type": "code",
     "collapsed": false,
     "input": [
      "grouped_status = df.groupby('Status')"
     ],
     "language": "python",
     "metadata": {},
     "outputs": []
    },
    {
     "cell_type": "markdown",
     "metadata": {},
     "source": [
      "Data are now rearranged in to several groups, each corresponding to a certain value of *Status* (here, only the first two values of every group are shown):"
     ]
    },
    {
     "cell_type": "code",
     "collapsed": false,
     "input": [
      "grouped_status.groups"
     ],
     "language": "python",
     "metadata": {},
     "outputs": []
    },
    {
     "cell_type": "markdown",
     "metadata": {},
     "source": [
      "We can count the number of values in each group:"
     ]
    },
    {
     "cell_type": "code",
     "collapsed": false,
     "input": [
      "grouped_status.size().plot(kind='bar')"
     ],
     "language": "python",
     "metadata": {},
     "outputs": []
    },
    {
     "cell_type": "markdown",
     "metadata": {},
     "source": [
      "We can look at individual groups:"
     ]
    },
    {
     "cell_type": "code",
     "collapsed": false,
     "input": [
      "t_span = '30t'\n",
      "grouped_status.get_group(301)['Status'].resample(t_span, how='count').plot(color='g', label='301')\n",
      "\n",
      "grouped_status.get_group(200)['Status'].resample(t_span, how='count').plot(color='b', secondary_y=True, label='200')\n",
      "legend()"
     ],
     "language": "python",
     "metadata": {},
     "outputs": []
    },
    {
     "cell_type": "markdown",
     "metadata": {},
     "source": [
      "Or we can reproduce plot from above with less effort:"
     ]
    },
    {
     "cell_type": "code",
     "collapsed": false,
     "input": [
      "grouped_status['Status'].resample('2H', how='count')\\\n",
      "                        .swaplevel(0,1).unstack()[[404,403,301,304]].\\\n",
      "                        plot(kind='barh', stacked=True, figsize=(10, 8))"
     ],
     "language": "python",
     "metadata": {},
     "outputs": []
    },
    {
     "cell_type": "heading",
     "level": 3,
     "metadata": {},
     "source": [
      "IPs"
     ]
    },
    {
     "cell_type": "markdown",
     "metadata": {},
     "source": [
      "Now I want to group by IPs and calculate how many requests we get from each of them: "
     ]
    },
    {
     "cell_type": "code",
     "collapsed": false,
     "input": [
      "ips = df.groupby('IP').size()"
     ],
     "language": "python",
     "metadata": {},
     "outputs": []
    },
    {
     "cell_type": "code",
     "collapsed": false,
     "input": [
      "ips.head()"
     ],
     "language": "python",
     "metadata": {},
     "outputs": []
    },
    {
     "cell_type": "markdown",
     "metadata": {},
     "source": [
      "I don't want to see all of them, just the top 10:"
     ]
    },
    {
     "cell_type": "code",
     "collapsed": false,
     "input": [
      "ips.sort()\n",
      "ips[-10:].plot(kind='barh')"
     ],
     "language": "python",
     "metadata": {},
     "outputs": []
    },
    {
     "cell_type": "markdown",
     "metadata": {},
     "source": [
      "We also can group by both *IP* and *Status*:"
     ]
    },
    {
     "cell_type": "code",
     "collapsed": false,
     "input": [
      "ips_status = df.groupby(['IP', 'Status']).size()"
     ],
     "language": "python",
     "metadata": {},
     "outputs": []
    },
    {
     "cell_type": "code",
     "collapsed": false,
     "input": [
      "ips_status.head(10)"
     ],
     "language": "python",
     "metadata": {},
     "outputs": []
    },
    {
     "cell_type": "code",
     "collapsed": false,
     "input": [
      "ips_status.sort()\n",
      "ips_status[-20:].plot(kind='barh')"
     ],
     "language": "python",
     "metadata": {},
     "outputs": []
    },
    {
     "cell_type": "heading",
     "level": 3,
     "metadata": {},
     "source": [
      "Geographical information"
     ]
    },
    {
     "cell_type": "markdown",
     "metadata": {},
     "source": [
      "I would like to know from which countries people or robots come to the website. It turns out that precise geolocation information is not free, but for our purposes free data bases are fine. We will use [pygeoip](https://github.com/appliedsec/pygeoip) to get information from GeoIP database, and that has to be downloaded from [here](http://dev.maxmind.com/geoip/geolite).  "
     ]
    },
    {
     "cell_type": "markdown",
     "metadata": {},
     "source": [
      "Import module and initialise data base:"
     ]
    },
    {
     "cell_type": "code",
     "collapsed": false,
     "input": [
      "import pygeoip\n",
      "gi = pygeoip.GeoIP('./GeoLiteCity.dat', pygeoip.MEMORY_CACHE)"
     ],
     "language": "python",
     "metadata": {},
     "outputs": []
    },
    {
     "cell_type": "markdown",
     "metadata": {},
     "source": [
      "This is how output of the pygeoip looks (we test our top IP from the previous section):"
     ]
    },
    {
     "cell_type": "code",
     "collapsed": false,
     "input": [
      "ipcon = gi.record_by_addr('64.233.161.99')\n",
      "ipcon"
     ],
     "language": "python",
     "metadata": {},
     "outputs": []
    },
    {
     "cell_type": "markdown",
     "metadata": {},
     "source": [
      "Guess who it is :) Looks like Google Bot is my main reader. That's rather sad :("
     ]
    },
    {
     "cell_type": "markdown",
     "metadata": {},
     "source": [
      "Loop to create a list of dictionaries with information about IP numbers. We also add information about the number of requests from each of the IPs:"
     ]
    },
    {
     "cell_type": "code",
     "collapsed": false,
     "input": [
      "ipcon = []\n",
      "for nn, iip in enumerate(ips.index):\n",
      "    rres = gi.record_by_addr(iip)\n",
      "    if rres:\n",
      "        #    rres['ip']                 = iip\n",
      "        rres['Number'] = ips[iip]\n",
      "        #delete some fields we don't need\n",
      "        del rres['area_code']\n",
      "        del rres['dma_code']\n",
      "        del rres['metro_code']\n",
      "        del rres['postal_code']\n",
      "        #del rres['region_name']\n",
      "        del rres['time_zone']\n",
      "        del rres['country_code']\n",
      "        ipcon.append(rres)\n",
      "    else:\n",
      "        ips = ips.drop(ips.index[[nn]])\n",
      "    "
     ],
     "language": "python",
     "metadata": {},
     "outputs": []
    },
    {
     "cell_type": "markdown",
     "metadata": {},
     "source": [
      "Create Data Frame from this list, use ips index:"
     ]
    },
    {
     "cell_type": "code",
     "collapsed": false,
     "input": [
      "reg = pd.DataFrame(ipcon, index = ips.index)\n",
      "reg.head()"
     ],
     "language": "python",
     "metadata": {},
     "outputs": []
    },
    {
     "cell_type": "markdown",
     "metadata": {},
     "source": [
      "Group by Country:"
     ]
    },
    {
     "cell_type": "code",
     "collapsed": false,
     "input": [
      "country = reg.groupby('country_code3').sum()"
     ],
     "language": "python",
     "metadata": {},
     "outputs": []
    },
    {
     "cell_type": "code",
     "collapsed": false,
     "input": [
      "country.head()"
     ],
     "language": "python",
     "metadata": {},
     "outputs": []
    },
    {
     "cell_type": "code",
     "collapsed": false,
     "input": [
      "country = country.sort(columns=['Number'])\n",
      "country.Number[-10:].plot(kind='barh')"
     ],
     "language": "python",
     "metadata": {},
     "outputs": []
    },
    {
     "cell_type": "markdown",
     "metadata": {},
     "source": [
      "The website is in Russian, so no surprises here."
     ]
    },
    {
     "cell_type": "markdown",
     "metadata": {},
     "source": [
      "Group by city:"
     ]
    },
    {
     "cell_type": "code",
     "collapsed": false,
     "input": [
      "city = reg.groupby('city').sum()"
     ],
     "language": "python",
     "metadata": {},
     "outputs": []
    },
    {
     "cell_type": "code",
     "collapsed": false,
     "input": [
      "city.head()"
     ],
     "language": "python",
     "metadata": {},
     "outputs": []
    },
    {
     "cell_type": "code",
     "collapsed": false,
     "input": [
      "#ff = city.Number.agg('sum').copy()\n",
      "city =city.sort(columns='Number')\n",
      "city.Number[-20:].plot(kind='barh')"
     ],
     "language": "python",
     "metadata": {},
     "outputs": []
    },
    {
     "cell_type": "markdown",
     "metadata": {},
     "source": [
      "The first 3 are kind of expected, but Tyumen, a Russian city located in the middle of Eurasia thousands of kilometers away from the nearest ocean coast, is a bit of a surprise (the website is about Oceanography). This is something to investigate later on. "
     ]
    },
    {
     "cell_type": "markdown",
     "metadata": {},
     "source": [
      "We have lats and lons for the data, so it is natural to put them on the map:"
     ]
    },
    {
     "cell_type": "code",
     "collapsed": false,
     "input": [
      "from mpl_toolkits.basemap import Basemap\n",
      "import matplotlib.cm as cm"
     ],
     "language": "python",
     "metadata": {},
     "outputs": []
    },
    {
     "cell_type": "code",
     "collapsed": false,
     "input": [
      "m = Basemap(projection='robin',lon_0=0,resolution='c')\n",
      "x, y = m(reg.longitude.values,reg.latitude.values)"
     ],
     "language": "python",
     "metadata": {},
     "outputs": []
    },
    {
     "cell_type": "code",
     "collapsed": false,
     "input": [
      "figure(figsize=(15,15))\n",
      "m.drawcoastlines(linewidth=0.25)\n",
      "m.drawcountries(linewidth=0.25)\n",
      "\n",
      "m.fillcontinents(color='coral',lake_color='aqua')\n",
      "m.drawmapboundary(fill_color='white')\n",
      "m.drawmeridians(np.arange(0,360,30))\n",
      "m.drawparallels(np.arange(-90,90,30))\n",
      "m.scatter(x,y,s=reg['Number']*3,c=reg['Number']/5,marker='o',zorder=4, cmap=cm.Paired,alpha=0.5)"
     ],
     "language": "python",
     "metadata": {},
     "outputs": []
    },
    {
     "cell_type": "markdown",
     "metadata": {},
     "source": [
      "Have closer look at Europe:"
     ]
    },
    {
     "cell_type": "code",
     "collapsed": false,
     "input": [
      "m = Basemap(projection='cyl',llcrnrlat=35,urcrnrlat=72,\\\n",
      "            llcrnrlon=-10,urcrnrlon=50,resolution='l')\n",
      "x, y = m(reg['longitude'],reg['latitude'])"
     ],
     "language": "python",
     "metadata": {},
     "outputs": []
    },
    {
     "cell_type": "code",
     "collapsed": false,
     "input": [
      "figure(figsize=(15,15))\n",
      "m.drawcoastlines(linewidth=0.25)\n",
      "m.drawcountries(linewidth=0.25)\n",
      "m.fillcontinents(color='white',lake_color='aqua')\n",
      "m.drawmapboundary(fill_color='aqua')\n",
      "m.drawmeridians(np.arange(0,360,30))\n",
      "m.drawparallels(np.arange(-90,90,30))\n",
      "m.scatter(x,y,s=reg['Number']*30,c=reg['Number'],marker='o',zorder=4, cmap=cm.gist_ncar ,alpha=0.3)\n"
     ],
     "language": "python",
     "metadata": {},
     "outputs": []
    },
    {
     "cell_type": "heading",
     "level": 2,
     "metadata": {},
     "source": [
      "Convert notebook to html"
     ]
    },
    {
     "cell_type": "markdown",
     "metadata": {},
     "source": [
      "System commands can be accesed by !"
     ]
    },
    {
     "cell_type": "code",
     "collapsed": false,
     "input": [
      "!ls"
     ],
     "language": "python",
     "metadata": {},
     "outputs": []
    },
    {
     "cell_type": "markdown",
     "metadata": {},
     "source": [
      "Convert complete notebook to html"
     ]
    },
    {
     "cell_type": "code",
     "collapsed": false,
     "input": [
      "!ipython nbconvert --to=html Apache_log.ipynb"
     ],
     "language": "python",
     "metadata": {},
     "outputs": []
    },
    {
     "cell_type": "markdown",
     "metadata": {},
     "source": [
      "Convert notebook without code cells"
     ]
    },
    {
     "cell_type": "code",
     "collapsed": false,
     "input": [
      "!more full_noinput.tpl"
     ],
     "language": "python",
     "metadata": {},
     "outputs": []
    },
    {
     "cell_type": "code",
     "collapsed": false,
     "input": [
      "!ipython nbconvert --to=html --template=full_noinput.tpl Apache_log.ipynb"
     ],
     "language": "python",
     "metadata": {},
     "outputs": []
    },
    {
     "cell_type": "heading",
     "level": 3,
     "metadata": {},
     "source": [
      "Catching spammers (request methods)"
     ]
    },
    {
     "cell_type": "markdown",
     "metadata": {},
     "source": [
      "Spammers are a huge problem, and it would be nice to filter them out. My website has very low user activity, and if somebody tries to POST something more than couple of times it's already suspicious. First we have to get information about what request method is being used for the requests. For this we have to analyse the *Request* column, which contain strings with requests. Request methods are always located in the beginning of the request string, so it's trivial to get it:"
     ]
    },
    {
     "cell_type": "code",
     "collapsed": false,
     "input": [
      "def gmet(x):\n",
      "    x = x.split()\n",
      "    return x[0]"
     ],
     "language": "python",
     "metadata": {},
     "outputs": []
    },
    {
     "cell_type": "markdown",
     "metadata": {},
     "source": [
      "We apply this little function to the *Request* column and create new *Method* column:"
     ]
    },
    {
     "cell_type": "code",
     "collapsed": false,
     "input": [
      "df['Method'] = df.Request.apply(gmet)"
     ],
     "language": "python",
     "metadata": {},
     "outputs": []
    },
    {
     "cell_type": "code",
     "collapsed": false,
     "input": [
      "df.head()"
     ],
     "language": "python",
     "metadata": {},
     "outputs": []
    },
    {
     "cell_type": "markdown",
     "metadata": {},
     "source": [
      "Group by *Method* and *IP*:"
     ]
    },
    {
     "cell_type": "code",
     "collapsed": false,
     "input": [
      "met = df.groupby(['Method', 'IP']).size()"
     ],
     "language": "python",
     "metadata": {},
     "outputs": []
    },
    {
     "cell_type": "code",
     "collapsed": false,
     "input": [
      "met.head"
     ],
     "language": "python",
     "metadata": {},
     "outputs": []
    },
    {
     "cell_type": "markdown",
     "metadata": {},
     "source": [
      "Create *POST* time series (we have to have a copy of the time series to sort the data):"
     ]
    },
    {
     "cell_type": "code",
     "collapsed": false,
     "input": [
      "post = met['POST'].copy()\n",
      "post.sort()"
     ],
     "language": "python",
     "metadata": {},
     "outputs": []
    },
    {
     "cell_type": "markdown",
     "metadata": {},
     "source": [
      "Plot the top 10 IPs that use POST method:"
     ]
    },
    {
     "cell_type": "code",
     "collapsed": false,
     "input": [
      "post[-10:].plot(kind='barh')"
     ],
     "language": "python",
     "metadata": {},
     "outputs": []
    },
    {
     "cell_type": "code",
     "collapsed": false,
     "input": [
      "post[-5:]"
     ],
     "language": "python",
     "metadata": {},
     "outputs": []
    },
    {
     "cell_type": "markdown",
     "metadata": {},
     "source": [
      "What is the winner doing?"
     ]
    },
    {
     "cell_type": "code",
     "collapsed": false,
     "input": [
      "df[df.IP =='77.222.40.65'][0:5]"
     ],
     "language": "python",
     "metadata": {},
     "outputs": []
    },
    {
     "cell_type": "markdown",
     "metadata": {},
     "source": [
      "Making some Wordpress cron requests... This IP looks familiar... Oh, it's actually the IP of my website - this is my Wordpress doing something. Have to investigate later if I can disable this thing (anyway it's not working, getting 403 error) :) "
     ]
    },
    {
     "cell_type": "markdown",
     "metadata": {},
     "source": [
      "Number two:"
     ]
    },
    {
     "cell_type": "code",
     "collapsed": false,
     "input": [
      "df[df.IP =='160.75.185.7'][0:10]"
     ],
     "language": "python",
     "metadata": {},
     "outputs": []
    },
    {
     "cell_type": "markdown",
     "metadata": {},
     "source": [
      "This is suspicious; looks like it tries to get to the website's admin area - candidate for blocking."
     ]
    },
    {
     "cell_type": "markdown",
     "metadata": {},
     "source": [
      "Number three:"
     ]
    },
    {
     "cell_type": "code",
     "collapsed": false,
     "input": [
      "df[df.IP =='213.248.47.229'][0:10]"
     ],
     "language": "python",
     "metadata": {},
     "outputs": []
    },
    {
     "cell_type": "markdown",
     "metadata": {},
     "source": [
      "This one tries to register on the forum every 5 second or so - clearly forum spammer. Block."
     ]
    },
    {
     "cell_type": "code",
     "collapsed": false,
     "input": [],
     "language": "python",
     "metadata": {},
     "outputs": []
    }
   ],
   "metadata": {}
  }
 ]
}